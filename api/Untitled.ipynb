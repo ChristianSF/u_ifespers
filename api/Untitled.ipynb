{
 "cells": [
  {
   "cell_type": "code",
   "execution_count": 2,
   "id": "520a74fa",
   "metadata": {},
   "outputs": [
    {
     "name": "stdout",
     "output_type": "stream",
     "text": [
      "Requirement already satisfied: flask in /home/chris/anaconda3/lib/python3.9/site-packages (1.1.2)\r\n",
      "Requirement already satisfied: click>=5.1 in /home/chris/anaconda3/lib/python3.9/site-packages (from flask) (8.0.4)\r\n",
      "Requirement already satisfied: Jinja2>=2.10.1 in /home/chris/anaconda3/lib/python3.9/site-packages (from flask) (3.1.2)\r\n",
      "Requirement already satisfied: Werkzeug>=0.15 in /home/chris/anaconda3/lib/python3.9/site-packages (from flask) (2.2.3)\r\n",
      "Requirement already satisfied: itsdangerous>=0.24 in /home/chris/anaconda3/lib/python3.9/site-packages (from flask) (2.0.1)\r\n",
      "Requirement already satisfied: MarkupSafe>=2.0 in /home/chris/anaconda3/lib/python3.9/site-packages (from Jinja2>=2.10.1->flask) (2.1.2)\r\n"
     ]
    }
   ],
   "source": [
    "!pip3 install flask"
   ]
  },
  {
   "cell_type": "code",
   "execution_count": 3,
   "id": "41d6da56",
   "metadata": {},
   "outputs": [
    {
     "name": "stdout",
     "output_type": "stream",
     "text": [
      "Requirement already satisfied: jinja2 in /home/chris/anaconda3/lib/python3.9/site-packages (3.1.2)\r\n",
      "Requirement already satisfied: MarkupSafe>=2.0 in /home/chris/anaconda3/lib/python3.9/site-packages (from jinja2) (2.1.2)\r\n"
     ]
    }
   ],
   "source": [
    "!pip3 install jinja2"
   ]
  },
  {
   "cell_type": "code",
   "execution_count": 5,
   "id": "e992f3f7",
   "metadata": {},
   "outputs": [
    {
     "ename": "ImportError",
     "evalue": "cannot import name 'escape' from 'jinja2' (/home/chris/anaconda3/lib/python3.9/site-packages/jinja2/__init__.py)",
     "output_type": "error",
     "traceback": [
      "\u001b[0;31m---------------------------------------------------------------------------\u001b[0m",
      "\u001b[0;31mImportError\u001b[0m                               Traceback (most recent call last)",
      "Input \u001b[0;32mIn [5]\u001b[0m, in \u001b[0;36m<cell line: 1>\u001b[0;34m()\u001b[0m\n\u001b[0;32m----> 1\u001b[0m \u001b[38;5;28;01mfrom\u001b[39;00m \u001b[38;5;21;01mflask\u001b[39;00m \u001b[38;5;28;01mimport\u001b[39;00m Flask\n",
      "File \u001b[0;32m~/anaconda3/lib/python3.9/site-packages/flask/__init__.py:14\u001b[0m, in \u001b[0;36m<module>\u001b[0;34m\u001b[0m\n\u001b[1;32m      2\u001b[0m \u001b[38;5;124;03m\"\"\"\u001b[39;00m\n\u001b[1;32m      3\u001b[0m \u001b[38;5;124;03m    flask\u001b[39;00m\n\u001b[1;32m      4\u001b[0m \u001b[38;5;124;03m    ~~~~~\u001b[39;00m\n\u001b[0;32m   (...)\u001b[0m\n\u001b[1;32m     10\u001b[0m \u001b[38;5;124;03m    :license: BSD-3-Clause\u001b[39;00m\n\u001b[1;32m     11\u001b[0m \u001b[38;5;124;03m\"\"\"\u001b[39;00m\n\u001b[1;32m     12\u001b[0m \u001b[38;5;66;03m# utilities we import from Werkzeug and Jinja2 that are unused\u001b[39;00m\n\u001b[1;32m     13\u001b[0m \u001b[38;5;66;03m# in the module but are exported as public interface.\u001b[39;00m\n\u001b[0;32m---> 14\u001b[0m \u001b[38;5;28;01mfrom\u001b[39;00m \u001b[38;5;21;01mjinja2\u001b[39;00m \u001b[38;5;28;01mimport\u001b[39;00m escape\n\u001b[1;32m     15\u001b[0m \u001b[38;5;28;01mfrom\u001b[39;00m \u001b[38;5;21;01mjinja2\u001b[39;00m \u001b[38;5;28;01mimport\u001b[39;00m Markup\n\u001b[1;32m     16\u001b[0m \u001b[38;5;28;01mfrom\u001b[39;00m \u001b[38;5;21;01mwerkzeug\u001b[39;00m\u001b[38;5;21;01m.\u001b[39;00m\u001b[38;5;21;01mexceptions\u001b[39;00m \u001b[38;5;28;01mimport\u001b[39;00m abort\n",
      "\u001b[0;31mImportError\u001b[0m: cannot import name 'escape' from 'jinja2' (/home/chris/anaconda3/lib/python3.9/site-packages/jinja2/__init__.py)"
     ]
    }
   ],
   "source": [
    "from flask import Flask"
   ]
  },
  {
   "cell_type": "code",
   "execution_count": null,
   "id": "957cd065",
   "metadata": {},
   "outputs": [],
   "source": []
  }
 ],
 "metadata": {
  "kernelspec": {
   "display_name": "Python 3 (ipykernel)",
   "language": "python",
   "name": "python3"
  },
  "language_info": {
   "codemirror_mode": {
    "name": "ipython",
    "version": 3
   },
   "file_extension": ".py",
   "mimetype": "text/x-python",
   "name": "python",
   "nbconvert_exporter": "python",
   "pygments_lexer": "ipython3",
   "version": "3.9.12"
  }
 },
 "nbformat": 4,
 "nbformat_minor": 5
}
