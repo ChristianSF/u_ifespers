{
 "cells": [
  {
   "cell_type": "markdown",
   "id": "a0701cdc",
   "metadata": {},
   "source": [
    "<h1>Instalacoes</h1>"
   ]
  },
  {
   "cell_type": "code",
   "execution_count": 1,
   "id": "b207cb99",
   "metadata": {},
   "outputs": [
    {
     "name": "stdout",
     "output_type": "stream",
     "text": [
      "Requirement already satisfied: openai in /home/chris/anaconda3/lib/python3.9/site-packages (0.27.8)\n",
      "Requirement already satisfied: aiohttp in /home/chris/anaconda3/lib/python3.9/site-packages (from openai) (3.8.1)\n",
      "Requirement already satisfied: requests>=2.20 in /home/chris/anaconda3/lib/python3.9/site-packages (from openai) (2.27.1)\n",
      "Requirement already satisfied: tqdm in /home/chris/anaconda3/lib/python3.9/site-packages (from openai) (4.64.0)\n",
      "Requirement already satisfied: idna<4,>=2.5 in /home/chris/anaconda3/lib/python3.9/site-packages (from requests>=2.20->openai) (3.3)\n",
      "Requirement already satisfied: urllib3<1.27,>=1.21.1 in /home/chris/anaconda3/lib/python3.9/site-packages (from requests>=2.20->openai) (1.26.9)\n",
      "Requirement already satisfied: certifi>=2017.4.17 in /home/chris/anaconda3/lib/python3.9/site-packages (from requests>=2.20->openai) (2021.10.8)\n",
      "Requirement already satisfied: charset-normalizer~=2.0.0 in /home/chris/anaconda3/lib/python3.9/site-packages (from requests>=2.20->openai) (2.0.4)\n",
      "Requirement already satisfied: attrs>=17.3.0 in /home/chris/anaconda3/lib/python3.9/site-packages (from aiohttp->openai) (21.4.0)\n",
      "Requirement already satisfied: aiosignal>=1.1.2 in /home/chris/anaconda3/lib/python3.9/site-packages (from aiohttp->openai) (1.2.0)\n",
      "Requirement already satisfied: frozenlist>=1.1.1 in /home/chris/anaconda3/lib/python3.9/site-packages (from aiohttp->openai) (1.2.0)\n",
      "Requirement already satisfied: async-timeout<5.0,>=4.0.0a3 in /home/chris/anaconda3/lib/python3.9/site-packages (from aiohttp->openai) (4.0.1)\n",
      "Requirement already satisfied: yarl<2.0,>=1.0 in /home/chris/anaconda3/lib/python3.9/site-packages (from aiohttp->openai) (1.6.3)\n",
      "Requirement already satisfied: multidict<7.0,>=4.5 in /home/chris/anaconda3/lib/python3.9/site-packages (from aiohttp->openai) (5.2.0)\n",
      "Requirement already satisfied: typing-extensions>=3.6.5 in /home/chris/anaconda3/lib/python3.9/site-packages (from async-timeout<5.0,>=4.0.0a3->aiohttp->openai) (4.1.1)\n"
     ]
    }
   ],
   "source": [
    "!pip3 install openai"
   ]
  },
  {
   "cell_type": "code",
   "execution_count": 2,
   "id": "1c027030",
   "metadata": {},
   "outputs": [
    {
     "name": "stdout",
     "output_type": "stream",
     "text": [
      "Requirement already satisfied: tiktoken in /home/chris/anaconda3/lib/python3.9/site-packages (0.4.0)\r\n",
      "Requirement already satisfied: requests>=2.26.0 in /home/chris/anaconda3/lib/python3.9/site-packages (from tiktoken) (2.27.1)\r\n",
      "Requirement already satisfied: regex>=2022.1.18 in /home/chris/anaconda3/lib/python3.9/site-packages (from tiktoken) (2022.3.15)\r\n",
      "Requirement already satisfied: urllib3<1.27,>=1.21.1 in /home/chris/anaconda3/lib/python3.9/site-packages (from requests>=2.26.0->tiktoken) (1.26.9)\r\n",
      "Requirement already satisfied: idna<4,>=2.5 in /home/chris/anaconda3/lib/python3.9/site-packages (from requests>=2.26.0->tiktoken) (3.3)\r\n",
      "Requirement already satisfied: charset-normalizer~=2.0.0 in /home/chris/anaconda3/lib/python3.9/site-packages (from requests>=2.26.0->tiktoken) (2.0.4)\r\n",
      "Requirement already satisfied: certifi>=2017.4.17 in /home/chris/anaconda3/lib/python3.9/site-packages (from requests>=2.26.0->tiktoken) (2021.10.8)\r\n"
     ]
    }
   ],
   "source": [
    "!pip3 install tiktoken"
   ]
  },
  {
   "cell_type": "markdown",
   "id": "6e0d0a93",
   "metadata": {},
   "source": [
    "<h1>Importacoes</h1>"
   ]
  },
  {
   "cell_type": "code",
   "execution_count": 3,
   "id": "ebad545d",
   "metadata": {},
   "outputs": [],
   "source": [
    "import os\n",
    "import openai\n",
    "import tiktoken\n",
    "import time\n",
    "import numpy as np\n",
    "import pandas as pd\n",
    "from openai.embeddings_utils import get_embedding, cosine_similarity\n",
    "\n",
    "import matplotlib.pyplot as plt\n",
    "from sklearn.cluster import KMeans\n",
    "from sklearn.manifold import TSNE"
   ]
  },
  {
   "cell_type": "markdown",
   "id": "7dc3f89a",
   "metadata": {},
   "source": [
    "<h1>Analise exploratoria</h1>"
   ]
  },
  {
   "cell_type": "code",
   "execution_count": 4,
   "id": "903339fb",
   "metadata": {},
   "outputs": [
    {
     "data": {
      "text/html": [
       "<div>\n",
       "<style scoped>\n",
       "    .dataframe tbody tr th:only-of-type {\n",
       "        vertical-align: middle;\n",
       "    }\n",
       "\n",
       "    .dataframe tbody tr th {\n",
       "        vertical-align: top;\n",
       "    }\n",
       "\n",
       "    .dataframe thead th {\n",
       "        text-align: right;\n",
       "    }\n",
       "</style>\n",
       "<table border=\"1\" class=\"dataframe\">\n",
       "  <thead>\n",
       "    <tr style=\"text-align: right;\">\n",
       "      <th></th>\n",
       "      <th>Unnamed: 0</th>\n",
       "      <th>Nome Curso</th>\n",
       "      <th>Descrição</th>\n",
       "      <th>Materias</th>\n",
       "      <th>Tipo</th>\n",
       "      <th>Duração</th>\n",
       "    </tr>\n",
       "  </thead>\n",
       "  <tbody>\n",
       "    <tr>\n",
       "      <th>0</th>\n",
       "      <td>0</td>\n",
       "      <td>marketing</td>\n",
       "      <td>['Marketing é o conjunto de estratégias e açõe...</td>\n",
       "      <td>['Administração de Compras e Vendas', 'Adminis...</td>\n",
       "      <td>grad</td>\n",
       "      <td>8</td>\n",
       "    </tr>\n",
       "    <tr>\n",
       "      <th>1</th>\n",
       "      <td>1</td>\n",
       "      <td>comunicacao-social</td>\n",
       "      <td>['A Comunicação Social é a área da Ciência Soc...</td>\n",
       "      <td>['Antropologia e Cultura Brasileira', 'Cibercu...</td>\n",
       "      <td>grad</td>\n",
       "      <td>8</td>\n",
       "    </tr>\n",
       "    <tr>\n",
       "      <th>2</th>\n",
       "      <td>2</td>\n",
       "      <td>engenharia-ambiental</td>\n",
       "      <td>['A Engenharia Ambiental é a área da engenhari...</td>\n",
       "      <td>['América Latina e Sustentabilidade Socioambie...</td>\n",
       "      <td>grad</td>\n",
       "      <td>10</td>\n",
       "    </tr>\n",
       "    <tr>\n",
       "      <th>3</th>\n",
       "      <td>3</td>\n",
       "      <td>gestao-ambiental</td>\n",
       "      <td>['É a prática de gerenciar os recursos naturai...</td>\n",
       "      <td>['Atividades Complementares', 'Auditoria e Cer...</td>\n",
       "      <td>grad ou tec</td>\n",
       "      <td>6</td>\n",
       "    </tr>\n",
       "    <tr>\n",
       "      <th>4</th>\n",
       "      <td>4</td>\n",
       "      <td>psicologia</td>\n",
       "      <td>[\"Psicologia é a ciência dedicada ao estudo da...</td>\n",
       "      <td>['Antropologia', 'Bases Epistemológicas da Psi...</td>\n",
       "      <td>grad</td>\n",
       "      <td>10</td>\n",
       "    </tr>\n",
       "  </tbody>\n",
       "</table>\n",
       "</div>"
      ],
      "text/plain": [
       "   Unnamed: 0            Nome Curso  \\\n",
       "0           0             marketing   \n",
       "1           1    comunicacao-social   \n",
       "2           2  engenharia-ambiental   \n",
       "3           3      gestao-ambiental   \n",
       "4           4            psicologia   \n",
       "\n",
       "                                           Descrição  \\\n",
       "0  ['Marketing é o conjunto de estratégias e açõe...   \n",
       "1  ['A Comunicação Social é a área da Ciência Soc...   \n",
       "2  ['A Engenharia Ambiental é a área da engenhari...   \n",
       "3  ['É a prática de gerenciar os recursos naturai...   \n",
       "4  [\"Psicologia é a ciência dedicada ao estudo da...   \n",
       "\n",
       "                                            Materias         Tipo Duração  \n",
       "0  ['Administração de Compras e Vendas', 'Adminis...         grad       8  \n",
       "1  ['Antropologia e Cultura Brasileira', 'Cibercu...         grad       8  \n",
       "2  ['América Latina e Sustentabilidade Socioambie...         grad      10  \n",
       "3  ['Atividades Complementares', 'Auditoria e Cer...  grad ou tec       6  \n",
       "4  ['Antropologia', 'Bases Epistemológicas da Psi...         grad      10  "
      ]
     },
     "execution_count": 4,
     "metadata": {},
     "output_type": "execute_result"
    }
   ],
   "source": [
    "df = pd.read_csv(\"../data/cursos.csv\")\n",
    "df.head()"
   ]
  },
  {
   "cell_type": "code",
   "execution_count": 5,
   "id": "78e0e785",
   "metadata": {},
   "outputs": [
    {
     "data": {
      "text/plain": [
       "(13, 6)"
      ]
     },
     "execution_count": 5,
     "metadata": {},
     "output_type": "execute_result"
    }
   ],
   "source": [
    "df.shape"
   ]
  },
  {
   "cell_type": "code",
   "execution_count": 6,
   "id": "81f35167",
   "metadata": {},
   "outputs": [
    {
     "name": "stdout",
     "output_type": "stream",
     "text": [
      "<class 'pandas.core.frame.DataFrame'>\n",
      "RangeIndex: 13 entries, 0 to 12\n",
      "Data columns (total 6 columns):\n",
      " #   Column      Non-Null Count  Dtype \n",
      "---  ------      --------------  ----- \n",
      " 0   Unnamed: 0  13 non-null     int64 \n",
      " 1   Nome Curso  13 non-null     object\n",
      " 2   Descrição   13 non-null     object\n",
      " 3   Materias    13 non-null     object\n",
      " 4   Tipo        13 non-null     object\n",
      " 5   Duração     13 non-null     object\n",
      "dtypes: int64(1), object(5)\n",
      "memory usage: 752.0+ bytes\n"
     ]
    }
   ],
   "source": [
    "df.info()"
   ]
  },
  {
   "cell_type": "code",
   "execution_count": 7,
   "id": "51b98bc6",
   "metadata": {},
   "outputs": [
    {
     "data": {
      "text/html": [
       "<div>\n",
       "<style scoped>\n",
       "    .dataframe tbody tr th:only-of-type {\n",
       "        vertical-align: middle;\n",
       "    }\n",
       "\n",
       "    .dataframe tbody tr th {\n",
       "        vertical-align: top;\n",
       "    }\n",
       "\n",
       "    .dataframe thead th {\n",
       "        text-align: right;\n",
       "    }\n",
       "</style>\n",
       "<table border=\"1\" class=\"dataframe\">\n",
       "  <thead>\n",
       "    <tr style=\"text-align: right;\">\n",
       "      <th></th>\n",
       "      <th>Nome Curso</th>\n",
       "      <th>Descrição</th>\n",
       "      <th>Materias</th>\n",
       "      <th>Tipo</th>\n",
       "      <th>Duração</th>\n",
       "    </tr>\n",
       "  </thead>\n",
       "  <tbody>\n",
       "    <tr>\n",
       "      <th>0</th>\n",
       "      <td>marketing</td>\n",
       "      <td>['Marketing é o conjunto de estratégias e açõe...</td>\n",
       "      <td>['Administração de Compras e Vendas', 'Adminis...</td>\n",
       "      <td>grad</td>\n",
       "      <td>8</td>\n",
       "    </tr>\n",
       "  </tbody>\n",
       "</table>\n",
       "</div>"
      ],
      "text/plain": [
       "  Nome Curso                                          Descrição  \\\n",
       "0  marketing  ['Marketing é o conjunto de estratégias e açõe...   \n",
       "\n",
       "                                            Materias  Tipo Duração  \n",
       "0  ['Administração de Compras e Vendas', 'Adminis...  grad       8  "
      ]
     },
     "execution_count": 7,
     "metadata": {},
     "output_type": "execute_result"
    }
   ],
   "source": [
    "df.drop(columns=['Unnamed: 0'], inplace=True)\n",
    "df.head(1)"
   ]
  },
  {
   "cell_type": "code",
   "execution_count": 8,
   "id": "d5ef56ea",
   "metadata": {},
   "outputs": [
    {
     "data": {
      "text/plain": [
       "Index(['nome_curso', 'descricao', 'materias', 'tipo', 'duracao'], dtype='object')"
      ]
     },
     "execution_count": 8,
     "metadata": {},
     "output_type": "execute_result"
    }
   ],
   "source": [
    "df.columns = ['nome_curso', 'descricao', 'materias', 'tipo', 'duracao']\n",
    "df.columns"
   ]
  },
  {
   "cell_type": "code",
   "execution_count": null,
   "id": "cc1b6ff7",
   "metadata": {},
   "outputs": [],
   "source": []
  },
  {
   "cell_type": "code",
   "execution_count": 10,
   "id": "e4c1e155",
   "metadata": {},
   "outputs": [],
   "source": [
    "def transforma_descricao(string):\n",
    "    pass"
   ]
  },
  {
   "cell_type": "code",
   "execution_count": null,
   "id": "f04ecf84",
   "metadata": {},
   "outputs": [],
   "source": [
    "embedding_model = \"text-embedding-ada-002\"\n",
    "embedding_encoding = \"cl100k_base\"\n",
    "max_tokens = 8000 "
   ]
  }
 ],
 "metadata": {
  "kernelspec": {
   "display_name": "Python 3 (ipykernel)",
   "language": "python",
   "name": "python3"
  },
  "language_info": {
   "codemirror_mode": {
    "name": "ipython",
    "version": 3
   },
   "file_extension": ".py",
   "mimetype": "text/x-python",
   "name": "python",
   "nbconvert_exporter": "python",
   "pygments_lexer": "ipython3",
   "version": "3.9.12"
  }
 },
 "nbformat": 4,
 "nbformat_minor": 5
}
