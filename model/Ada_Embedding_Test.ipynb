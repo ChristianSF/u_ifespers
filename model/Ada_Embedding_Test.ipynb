{
 "cells": [
  {
   "cell_type": "markdown",
   "id": "0b612491",
   "metadata": {},
   "source": [
    "<h1>Instalacoes</h1>"
   ]
  },
  {
   "cell_type": "code",
   "execution_count": 1,
   "id": "7a163941",
   "metadata": {},
   "outputs": [
    {
     "name": "stdout",
     "output_type": "stream",
     "text": [
      "Requirement already satisfied: openai in /home/chris/anaconda3/lib/python3.9/site-packages (0.27.8)\n",
      "Requirement already satisfied: aiohttp in /home/chris/anaconda3/lib/python3.9/site-packages (from openai) (3.8.1)\n",
      "Requirement already satisfied: requests>=2.20 in /home/chris/anaconda3/lib/python3.9/site-packages (from openai) (2.27.1)\n",
      "Requirement already satisfied: tqdm in /home/chris/anaconda3/lib/python3.9/site-packages (from openai) (4.64.0)\n",
      "Requirement already satisfied: idna<4,>=2.5 in /home/chris/anaconda3/lib/python3.9/site-packages (from requests>=2.20->openai) (3.3)\n",
      "Requirement already satisfied: urllib3<1.27,>=1.21.1 in /home/chris/anaconda3/lib/python3.9/site-packages (from requests>=2.20->openai) (1.26.9)\n",
      "Requirement already satisfied: certifi>=2017.4.17 in /home/chris/anaconda3/lib/python3.9/site-packages (from requests>=2.20->openai) (2021.10.8)\n",
      "Requirement already satisfied: charset-normalizer~=2.0.0 in /home/chris/anaconda3/lib/python3.9/site-packages (from requests>=2.20->openai) (2.0.4)\n",
      "Requirement already satisfied: attrs>=17.3.0 in /home/chris/anaconda3/lib/python3.9/site-packages (from aiohttp->openai) (21.4.0)\n",
      "Requirement already satisfied: aiosignal>=1.1.2 in /home/chris/anaconda3/lib/python3.9/site-packages (from aiohttp->openai) (1.2.0)\n",
      "Requirement already satisfied: frozenlist>=1.1.1 in /home/chris/anaconda3/lib/python3.9/site-packages (from aiohttp->openai) (1.2.0)\n",
      "Requirement already satisfied: async-timeout<5.0,>=4.0.0a3 in /home/chris/anaconda3/lib/python3.9/site-packages (from aiohttp->openai) (4.0.1)\n",
      "Requirement already satisfied: yarl<2.0,>=1.0 in /home/chris/anaconda3/lib/python3.9/site-packages (from aiohttp->openai) (1.6.3)\n",
      "Requirement already satisfied: multidict<7.0,>=4.5 in /home/chris/anaconda3/lib/python3.9/site-packages (from aiohttp->openai) (5.2.0)\n",
      "Requirement already satisfied: typing-extensions>=3.6.5 in /home/chris/anaconda3/lib/python3.9/site-packages (from async-timeout<5.0,>=4.0.0a3->aiohttp->openai) (4.1.1)\n"
     ]
    }
   ],
   "source": [
    "!pip3 install openai"
   ]
  },
  {
   "cell_type": "code",
   "execution_count": 2,
   "id": "18d25f33",
   "metadata": {},
   "outputs": [
    {
     "name": "stdout",
     "output_type": "stream",
     "text": [
      "Requirement already satisfied: tiktoken in /home/chris/anaconda3/lib/python3.9/site-packages (0.4.0)\r\n",
      "Requirement already satisfied: requests>=2.26.0 in /home/chris/anaconda3/lib/python3.9/site-packages (from tiktoken) (2.27.1)\r\n",
      "Requirement already satisfied: regex>=2022.1.18 in /home/chris/anaconda3/lib/python3.9/site-packages (from tiktoken) (2022.3.15)\r\n",
      "Requirement already satisfied: urllib3<1.27,>=1.21.1 in /home/chris/anaconda3/lib/python3.9/site-packages (from requests>=2.26.0->tiktoken) (1.26.9)\r\n",
      "Requirement already satisfied: idna<4,>=2.5 in /home/chris/anaconda3/lib/python3.9/site-packages (from requests>=2.26.0->tiktoken) (3.3)\r\n",
      "Requirement already satisfied: charset-normalizer~=2.0.0 in /home/chris/anaconda3/lib/python3.9/site-packages (from requests>=2.26.0->tiktoken) (2.0.4)\r\n",
      "Requirement already satisfied: certifi>=2017.4.17 in /home/chris/anaconda3/lib/python3.9/site-packages (from requests>=2.26.0->tiktoken) (2021.10.8)\r\n"
     ]
    }
   ],
   "source": [
    "!pip3 install tiktoken"
   ]
  },
  {
   "cell_type": "markdown",
   "id": "39fdd48c",
   "metadata": {},
   "source": [
    "<h1>Importacoes</h1>"
   ]
  },
  {
   "cell_type": "code",
   "execution_count": 3,
   "id": "47dc5bcf",
   "metadata": {},
   "outputs": [],
   "source": [
    "import os\n",
    "import openai\n",
    "import tiktoken\n",
    "import time\n",
    "import numpy as np\n",
    "import pandas as pd\n",
    "from openai.embeddings_utils import get_embedding, cosine_similarity\n",
    "\n",
    "import matplotlib.pyplot as plt\n",
    "from sklearn.cluster import KMeans\n",
    "from sklearn.manifold import TSNE"
   ]
  },
  {
   "cell_type": "markdown",
   "id": "4a56a158",
   "metadata": {},
   "source": [
    "<h1>Análise Exploratória</h1>"
   ]
  },
  {
   "cell_type": "markdown",
   "id": "caa3e21e",
   "metadata": {},
   "source": [
    "<h2>Cursos</h2>"
   ]
  },
  {
   "cell_type": "code",
   "execution_count": 4,
   "id": "6cb04939",
   "metadata": {},
   "outputs": [
    {
     "data": {
      "text/html": [
       "<div>\n",
       "<style scoped>\n",
       "    .dataframe tbody tr th:only-of-type {\n",
       "        vertical-align: middle;\n",
       "    }\n",
       "\n",
       "    .dataframe tbody tr th {\n",
       "        vertical-align: top;\n",
       "    }\n",
       "\n",
       "    .dataframe thead th {\n",
       "        text-align: right;\n",
       "    }\n",
       "</style>\n",
       "<table border=\"1\" class=\"dataframe\">\n",
       "  <thead>\n",
       "    <tr style=\"text-align: right;\">\n",
       "      <th></th>\n",
       "      <th>Unnamed: 0</th>\n",
       "      <th>Nome Curso</th>\n",
       "      <th>Descrição</th>\n",
       "      <th>Materias</th>\n",
       "      <th>Tipo</th>\n",
       "      <th>Duração</th>\n",
       "    </tr>\n",
       "  </thead>\n",
       "  <tbody>\n",
       "    <tr>\n",
       "      <th>0</th>\n",
       "      <td>0</td>\n",
       "      <td>marketing</td>\n",
       "      <td>['Marketing é o conjunto de estratégias e açõe...</td>\n",
       "      <td>['Administração de Compras e Vendas', 'Adminis...</td>\n",
       "      <td>grad</td>\n",
       "      <td>8</td>\n",
       "    </tr>\n",
       "    <tr>\n",
       "      <th>1</th>\n",
       "      <td>1</td>\n",
       "      <td>comunicacao-social</td>\n",
       "      <td>['A Comunicação Social é a área da Ciência Soc...</td>\n",
       "      <td>['Antropologia e Cultura Brasileira', 'Cibercu...</td>\n",
       "      <td>grad</td>\n",
       "      <td>8</td>\n",
       "    </tr>\n",
       "    <tr>\n",
       "      <th>2</th>\n",
       "      <td>2</td>\n",
       "      <td>engenharia-ambiental</td>\n",
       "      <td>['A Engenharia Ambiental é a área da engenhari...</td>\n",
       "      <td>['América Latina e Sustentabilidade Socioambie...</td>\n",
       "      <td>grad</td>\n",
       "      <td>10</td>\n",
       "    </tr>\n",
       "    <tr>\n",
       "      <th>3</th>\n",
       "      <td>3</td>\n",
       "      <td>gestao-ambiental</td>\n",
       "      <td>['É a prática de gerenciar os recursos naturai...</td>\n",
       "      <td>['Atividades Complementares', 'Auditoria e Cer...</td>\n",
       "      <td>grad ou tec</td>\n",
       "      <td>6</td>\n",
       "    </tr>\n",
       "    <tr>\n",
       "      <th>4</th>\n",
       "      <td>4</td>\n",
       "      <td>psicologia</td>\n",
       "      <td>[\"Psicologia é a ciência dedicada ao estudo da...</td>\n",
       "      <td>['Antropologia', 'Bases Epistemológicas da Psi...</td>\n",
       "      <td>grad</td>\n",
       "      <td>10</td>\n",
       "    </tr>\n",
       "  </tbody>\n",
       "</table>\n",
       "</div>"
      ],
      "text/plain": [
       "   Unnamed: 0            Nome Curso  \\\n",
       "0           0             marketing   \n",
       "1           1    comunicacao-social   \n",
       "2           2  engenharia-ambiental   \n",
       "3           3      gestao-ambiental   \n",
       "4           4            psicologia   \n",
       "\n",
       "                                           Descrição  \\\n",
       "0  ['Marketing é o conjunto de estratégias e açõe...   \n",
       "1  ['A Comunicação Social é a área da Ciência Soc...   \n",
       "2  ['A Engenharia Ambiental é a área da engenhari...   \n",
       "3  ['É a prática de gerenciar os recursos naturai...   \n",
       "4  [\"Psicologia é a ciência dedicada ao estudo da...   \n",
       "\n",
       "                                            Materias         Tipo Duração  \n",
       "0  ['Administração de Compras e Vendas', 'Adminis...         grad       8  \n",
       "1  ['Antropologia e Cultura Brasileira', 'Cibercu...         grad       8  \n",
       "2  ['América Latina e Sustentabilidade Socioambie...         grad      10  \n",
       "3  ['Atividades Complementares', 'Auditoria e Cer...  grad ou tec       6  \n",
       "4  ['Antropologia', 'Bases Epistemológicas da Psi...         grad      10  "
      ]
     },
     "execution_count": 4,
     "metadata": {},
     "output_type": "execute_result"
    }
   ],
   "source": [
    "df = pd.read_csv(\"../data/cursos.csv\")\n",
    "df.head()"
   ]
  },
  {
   "cell_type": "code",
   "execution_count": 5,
   "id": "0966da22",
   "metadata": {},
   "outputs": [
    {
     "data": {
      "text/plain": [
       "(13, 6)"
      ]
     },
     "execution_count": 5,
     "metadata": {},
     "output_type": "execute_result"
    }
   ],
   "source": [
    "df.shape"
   ]
  },
  {
   "cell_type": "code",
   "execution_count": 6,
   "id": "c413060b",
   "metadata": {},
   "outputs": [
    {
     "name": "stdout",
     "output_type": "stream",
     "text": [
      "<class 'pandas.core.frame.DataFrame'>\n",
      "RangeIndex: 13 entries, 0 to 12\n",
      "Data columns (total 6 columns):\n",
      " #   Column      Non-Null Count  Dtype \n",
      "---  ------      --------------  ----- \n",
      " 0   Unnamed: 0  13 non-null     int64 \n",
      " 1   Nome Curso  13 non-null     object\n",
      " 2   Descrição   13 non-null     object\n",
      " 3   Materias    13 non-null     object\n",
      " 4   Tipo        13 non-null     object\n",
      " 5   Duração     13 non-null     object\n",
      "dtypes: int64(1), object(5)\n",
      "memory usage: 752.0+ bytes\n"
     ]
    }
   ],
   "source": [
    "df.info()"
   ]
  },
  {
   "cell_type": "code",
   "execution_count": 7,
   "id": "974fd652",
   "metadata": {},
   "outputs": [
    {
     "data": {
      "text/html": [
       "<div>\n",
       "<style scoped>\n",
       "    .dataframe tbody tr th:only-of-type {\n",
       "        vertical-align: middle;\n",
       "    }\n",
       "\n",
       "    .dataframe tbody tr th {\n",
       "        vertical-align: top;\n",
       "    }\n",
       "\n",
       "    .dataframe thead th {\n",
       "        text-align: right;\n",
       "    }\n",
       "</style>\n",
       "<table border=\"1\" class=\"dataframe\">\n",
       "  <thead>\n",
       "    <tr style=\"text-align: right;\">\n",
       "      <th></th>\n",
       "      <th>Nome Curso</th>\n",
       "      <th>Descrição</th>\n",
       "      <th>Materias</th>\n",
       "      <th>Tipo</th>\n",
       "      <th>Duração</th>\n",
       "    </tr>\n",
       "  </thead>\n",
       "  <tbody>\n",
       "    <tr>\n",
       "      <th>0</th>\n",
       "      <td>marketing</td>\n",
       "      <td>['Marketing é o conjunto de estratégias e açõe...</td>\n",
       "      <td>['Administração de Compras e Vendas', 'Adminis...</td>\n",
       "      <td>grad</td>\n",
       "      <td>8</td>\n",
       "    </tr>\n",
       "  </tbody>\n",
       "</table>\n",
       "</div>"
      ],
      "text/plain": [
       "  Nome Curso                                          Descrição  \\\n",
       "0  marketing  ['Marketing é o conjunto de estratégias e açõe...   \n",
       "\n",
       "                                            Materias  Tipo Duração  \n",
       "0  ['Administração de Compras e Vendas', 'Adminis...  grad       8  "
      ]
     },
     "execution_count": 7,
     "metadata": {},
     "output_type": "execute_result"
    }
   ],
   "source": [
    "df.drop(columns=['Unnamed: 0'], inplace=True)\n",
    "df.head(1)"
   ]
  },
  {
   "cell_type": "code",
   "execution_count": 8,
   "id": "d665b1d7",
   "metadata": {},
   "outputs": [
    {
     "data": {
      "text/plain": [
       "Index(['nome_curso', 'descricao', 'materias', 'tipo', 'duracao'], dtype='object')"
      ]
     },
     "execution_count": 8,
     "metadata": {},
     "output_type": "execute_result"
    }
   ],
   "source": [
    "df.columns = ['nome_curso', 'descricao', 'materias', 'tipo', 'duracao']\n",
    "df.columns"
   ]
  },
  {
   "cell_type": "code",
   "execution_count": 18,
   "id": "b47042c7",
   "metadata": {},
   "outputs": [
    {
     "data": {
      "text/plain": [
       "13"
      ]
     },
     "execution_count": 18,
     "metadata": {},
     "output_type": "execute_result"
    }
   ],
   "source": [
    "df.nome_curso.nunique()"
   ]
  },
  {
   "cell_type": "code",
   "execution_count": 11,
   "id": "157be1f4",
   "metadata": {},
   "outputs": [
    {
     "data": {
      "text/plain": [
       "\"['Marketing é o conjunto de estratégias e ações que visam criar valor para o cliente e gerar lucro para a empresa. Envolve atividades como pesquisa de mercado, desenvolvimento de produtos, comunicação, promoção e distribuição, com o objetivo de identificar, satisfazer e fidelizar, garantindo a competitividade e o sucesso da empresa no mercado.\\\\nA faculdade de Marketing é constituída por disciplinas que desenvolvem habilidades e conhecimentos para o estudante se tornar um profissional de marketing. Com o curso, o aluno tem a oportunidade de aprofundar seu conhecimento em diversos tópicos, como estratégias de marketing, técnicas de publicidade, planejamento e gestão de marketing, estudos de mercado e análise de dados, além de outras áreas.\\\\nO termo marketing é derivado da palavra mark, que, do inglês, significado mercado. A nomenclatura define os conceitos básicos da área, que consiste no estudo e desenvolvimento de ações de mercado.\\\\nDurante o curso de Marketing, o formando aprende a desenvolver e implementar estratégias de marketing, aplicar técnicas de publicidade, planejar campanhas de marketing e gestão de marcas, além de conhecer sobre o mercado, o cenário atual do marketing, as tendências e as principais ferramentas de marketing.\\\\nA formação também ensina os alunos a desenvolver habilidades de liderança e comunicação, além de ajudá-los a entender melhor como as empresas precisam se posicionar no mercado e como usar a tecnologia para aprimorar os processos de marketing.\\\\nAlém disso, os estudantes da faculdade de Marketing também têm a oportunidade de desenvolver suas habilidades em outras áreas, como análise de dados, gestão de produtos, movimentação de produtos, planejamento de negócios, criação de marcas e muito mais.\\\\nCom a faculdade de Marketing, os alunos terão acesso a todas as ferramentas, técnicas e recursos necessários para se tornarem profissionais de marketing de sucesso. Além disso, o curso oferece a oportunidade de trabalhar em projetos práticos, o que ajuda os alunos a se prepararem para o mercado de trabalho.\\\\n', 'Segundo as Diretrizes Curriculares Nacionais definidas pelo Ministério da Educação (MEC), o curso de Marketing se enquadra como um curso tecnológico da área de Gestão e Negócios. No entanto, algumas instituições de ensino já oferecem a opção de bacharelado.\\\\nO curso tecnológico deve apresentar conteúdos gerais sobre o campo de gestão, além dos conteúdos específicos de marketing. Já o currículo do bacharelado inclui, além das matérias ligadas ao marketing e à gestão de negócios, disciplinas como economia, sociologia e estatística.\\\\nA duração média do bacharelado em Marketing é de 4 anos; a do curso tecnológico é de 2 anos. Em [nível técnico](https://querobolsa.com.br/cursos-e-faculdades/marketing/bolsas?l=tecnico], a duração é de, em média, 800 horas. Fica a critério da instituição de ensino a aplicação de atividades complementares, estágio e trabalho de conclusão de curso.\\\\nCenso da Educação Superior 2021**: Na rede privada, o curso de Marketing é o 4º maior curso de graduação tecnológica, em número de matrículas, por categoria Administrativa.\\\\nEm âmbito geral, ou seja, em todas as categorias do levantamento para Rede Pública, Marketing é o 10º com o maior número de matrículas: 74.207 estudantes matriculados em 2021. A primeira colocação geral é de Pedagogia - 557.273 estudantes.\\\\nDica importante: Confira o Guia Completo sobre a Redação do Enem. Veja dicas incríveis para você arrasar e conseguir uma boa nota nesta parte importante da prova. Tenha acesso aos critérios de avaliação, dicas de especialistas e exemplos nota 1000! Tudo gratuito para você!\\\\n', 'O curso de marketing é um dos cursos mais procurados e mais importantes para qualquer profissional. Ele permite que os alunos adquiram conhecimentos e habilidades para entender e atuar no mercado de forma eficaz.\\\\nNo curso, os estudantes aprendem sobre os principais conceitos de marketing, como por exemplo: análise de mercado, segmentação de mercado, estratégias de marketing, plano de marketing, pesquisa de mercado, branding, publicidade, relações públicas, entre outros. Os alunos também aprendem sobre as principais ferramentas utilizadas no marketing digital, como SEO, SEM, Google Analytics, redes sociais, e-mail marketing, entre outras.\\\\nOutra parte importante da faculdade de Marketing é o estudo de como as empresas podem se adaptar às mudanças do mercado, bem como a avaliação dos resultados obtidos com as suas ações de marketing.\\\\nCom o curso, os alunos também têm a oportunidade de conhecer novas técnicas e ferramentas para criar campanhas de marketing eficazes, que podem ser aplicadas em diversas áreas e empresas.\\\\nPor fim, o faculdade de marketing permite que os alunos tenham uma visão holística do marketing, bem como conhecimentos e habilidades necessários para serem bem sucedidos nessa área.\\\\nEntre as disciplinas básicas e específicas do curso de Marketing, encontram-se:\\\\n\\\\nMatriz de análise;\\\\nComportamento do consumidor;\\\\nEstratégia;\\\\nProduto;\\\\nPreço;\\\\nDistribuição;\\\\nComunicação;\\\\nMarketing de varejo;\\\\nGestão de Marcas;\\\\nPesquisa;\\\\nServiços;\\\\nCódigo de Defesa do Consumidor;\\\\nMarketing Social e Ambiental;\\\\nMarketing Digital.\\\\n\\\\nA finalidade do marketing é criar valor para o cliente e gerar lucro para a empresa. Ele busca identificar as necessidades e desejos dos consumidores, desenvolver produtos e serviços que atendam essas demandas e promovê-los de forma eficaz para alcançar o público-alvo. Além disso, o setor também busca estabelecer e manter relacionamentos duradouros com os clientes, oferecendo um atendimento de qualidade e proporcionando experiências positivas.\\\\nAo criar uma estratégia de marketing eficiente, a empresa pode aumentar sua visibilidade e reputação, gerar novas oportunidades de negócio, fidelizar clientes existentes e conquistar novos mercados.\\\\nVeja também: A grade curricular do curso superior de Marketing, no site da Quero Bolsa.\\\\n', 'O valor do curso de Marketing pode variar bastante. É possível encontrar mensalidades a partir de R$ 39,90 entre as instituições parceiras da Quero Bolsa.\\\\n', 'O profissional de Marketing elabora planos estratégicos das áreas de comercialização, marketing e comunicação das empresas, implementando e coordenando a execução de atividades.\\\\nEle pode atuar na comunicação corporativa, prestar consultoria a empresas para o lançamento de produtos e serviços, trabalhar com pesquisa para identificar hábitos e necessidades de consumidores e posicionar e promover o trabalho de artistas e influenciadores, entre outras funções.\\\\nNo mercado de trabalho, esse profissional pode atuar em departamentos de marketing de grandes empresas, como consultor em pequenos e médios negócios ou trabalhar em institutos de pesquisa e órgãos públicos.\\\\nO setor de serviços é o que mais costuma empregar esse profissional. Entre as áreas mais aquecidas estão marketing digital, cultural e promocional.\\\\n', 'O profissional de marketing é responsável por desenvolver estratégias e planejar ações de comunicação e marketing que buscam atingir os objetivos da empresa. Ele trabalha diretamente com planejamento de campanhas, produção de conteúdo, análise de dados e desenvolvimento de insights.\\\\nO profissional de marketing precisa ter conhecimento sobre análise de mercado, segmentação, planejamento de estratégias, desenvolvimento de produtos e gestão de marca. O profissional de marketing pode trabalhar em agências de publicidade, em empresas de produtos ou serviços, em departamentos de marketing ou em empresas de desenvolvimento de software.\\\\nEle é responsável por entender as necessidades da empresa e desenvolver estratégias de marketing que ajudarão a alcançar os objetivos da mesma. Ele também pode trabalhar em departamentos de comunicação, desenvolvendo estratégias de comunicação para alcançar os objetivos da empresa.\\\\nAlém disso, ele pode trabalhar como consultor de marketing, ajudando outras empresas a desenvolverem seus planos de marketing.\\\\nO profissional de marketing também pode trabalhar no setor de e-commerce, desenvolvendo estratégias para aumentar as vendas on-line. Ele também pode trabalhar em empresas de mídia, desenvolvendo estratégias para o aumento de audiência.\\\\nCaso você tenha dúvidas sobre o curso de Marketing ou profissões nesta área, faça o seu questionamento na Comunidade Quero. A Comunidade Quero é um ambiente para troca de conhecimento, onde você pode tirar suas dúvidas e ajudar outros integrantes da Comunidade com as dúvidas sobre o curso.\\\\nVeja também: O Guia de Profissões da Quero Bolsa! São mais de 350 páginas sobre as diversas possibilidades profissionais do mercado de trabalho. Sobre a área, você poderá conferir detalhes sobre as profissões de: analista de marketing, assistente de marketing e outras profissões.\\\\n', 'Uma das principais exigências é a familiaridade com as principais ferramentas de marketing. Os profissionais de marketing devem estar familiarizados com a utilização de ferramentas como o Google Adwords, o Facebook Ads e o LinkedIn Ads.\\\\nAlém disso, eles também devem ter conhecimento sobre como usar o email marketing e os principais canais de mídia social. O profissional de marketing também deve ter habilidades em comunicação, de comunicar suas ideias de maneira clara e eficaz, tanto oralmente quanto por escrito.\\\\nEles também precisam ter habilidades em escrita criativa para produzir conteúdo interessante e persuasivo para os clientes. Outra habilidade fundamental para o profissional de marketing é o raciocínio analítico. Os profissionais de marketing precisam ser capazes de analisar dados e tomar decisões estratégicas baseadas nesses dados.\\\\nIsso inclui saber identificar tendências de mercado, avaliar os resultados de campanhas e tomar decisões informadas a respeito de novas estratégias. Por fim, os profissionais de marketing devem ter boas habilidades de gestão de tempo. Eles precisam ser capazes de administrar seu tempo eficazmente para realizar todas as tarefas exigidas - gerenciar projetos, conduzir reuniões e estabelecer prazos realistas.\\\\nAs profissões na área de Marketing que foram destacadas pelo Guia de 2023 são: Analista de inteligência de mercado, Gerente de marketing digital, Gerente de e-commerce e Analista de CRO.\\\\nMarketing em alta: A edição 2023 do guia salarial da Robert Half listou algumas profissões na área do Marketing em alta para o ano da publicação. Coordenador de marketing digital, Gerente de e-commerce, Executivo de contas, Gerente de marketing digital e Analista de marketing digital foram algumas carreiras listadas como destaque pela Robert Half.\\\\nDestaque para as profissões que trabalham na área analítica: Analista de inteligência de mercado e Analista de inteligência de negócios, por exemplo.\\\\nCaso você tenha dúvidas se esta profissão é a escolha certa para você, não deixe de conferir o Teste Vocacional da Quero Bolsa. É rápido, gratuito e pode te ajudar nesta importante escolha profissional.\\\\n']\""
      ]
     },
     "execution_count": 11,
     "metadata": {},
     "output_type": "execute_result"
    }
   ],
   "source": [
    "df.descricao.loc[0]"
   ]
  },
  {
   "cell_type": "code",
   "execution_count": 12,
   "id": "407a96f8",
   "metadata": {},
   "outputs": [
    {
     "data": {
      "text/plain": [
       "str"
      ]
     },
     "execution_count": 12,
     "metadata": {},
     "output_type": "execute_result"
    }
   ],
   "source": [
    "type(df.descricao.loc[0])"
   ]
  },
  {
   "cell_type": "code",
   "execution_count": 15,
   "id": "57bfca22",
   "metadata": {},
   "outputs": [],
   "source": [
    "def transforma_descricao(string):\n",
    "    \n",
    "    string = string.replace(\"\\\\n\", \"\")\n",
    "    string = string.replace(\"']\", \"\")\n",
    "    string = string.replace(\"['\", \"\")\n",
    "    string = string.replace('[\"', '')\n",
    "    string = string.replace('\"]', '')\n",
    "    return string"
   ]
  },
  {
   "cell_type": "code",
   "execution_count": 16,
   "id": "8e92f65b",
   "metadata": {},
   "outputs": [
    {
     "data": {
      "text/plain": [
       "\"Marketing é o conjunto de estratégias e ações que visam criar valor para o cliente e gerar lucro para a empresa. Envolve atividades como pesquisa de mercado, desenvolvimento de produtos, comunicação, promoção e distribuição, com o objetivo de identificar, satisfazer e fidelizar, garantindo a competitividade e o sucesso da empresa no mercado.A faculdade de Marketing é constituída por disciplinas que desenvolvem habilidades e conhecimentos para o estudante se tornar um profissional de marketing. Com o curso, o aluno tem a oportunidade de aprofundar seu conhecimento em diversos tópicos, como estratégias de marketing, técnicas de publicidade, planejamento e gestão de marketing, estudos de mercado e análise de dados, além de outras áreas.O termo marketing é derivado da palavra mark, que, do inglês, significado mercado. A nomenclatura define os conceitos básicos da área, que consiste no estudo e desenvolvimento de ações de mercado.Durante o curso de Marketing, o formando aprende a desenvolver e implementar estratégias de marketing, aplicar técnicas de publicidade, planejar campanhas de marketing e gestão de marcas, além de conhecer sobre o mercado, o cenário atual do marketing, as tendências e as principais ferramentas de marketing.A formação também ensina os alunos a desenvolver habilidades de liderança e comunicação, além de ajudá-los a entender melhor como as empresas precisam se posicionar no mercado e como usar a tecnologia para aprimorar os processos de marketing.Além disso, os estudantes da faculdade de Marketing também têm a oportunidade de desenvolver suas habilidades em outras áreas, como análise de dados, gestão de produtos, movimentação de produtos, planejamento de negócios, criação de marcas e muito mais.Com a faculdade de Marketing, os alunos terão acesso a todas as ferramentas, técnicas e recursos necessários para se tornarem profissionais de marketing de sucesso. Além disso, o curso oferece a oportunidade de trabalhar em projetos práticos, o que ajuda os alunos a se prepararem para o mercado de trabalho.', 'Segundo as Diretrizes Curriculares Nacionais definidas pelo Ministério da Educação (MEC), o curso de Marketing se enquadra como um curso tecnológico da área de Gestão e Negócios. No entanto, algumas instituições de ensino já oferecem a opção de bacharelado.O curso tecnológico deve apresentar conteúdos gerais sobre o campo de gestão, além dos conteúdos específicos de marketing. Já o currículo do bacharelado inclui, além das matérias ligadas ao marketing e à gestão de negócios, disciplinas como economia, sociologia e estatística.A duração média do bacharelado em Marketing é de 4 anos; a do curso tecnológico é de 2 anos. Em [nível técnico](https://querobolsa.com.br/cursos-e-faculdades/marketing/bolsas?l=tecnico], a duração é de, em média, 800 horas. Fica a critério da instituição de ensino a aplicação de atividades complementares, estágio e trabalho de conclusão de curso.Censo da Educação Superior 2021**: Na rede privada, o curso de Marketing é o 4º maior curso de graduação tecnológica, em número de matrículas, por categoria Administrativa.Em âmbito geral, ou seja, em todas as categorias do levantamento para Rede Pública, Marketing é o 10º com o maior número de matrículas: 74.207 estudantes matriculados em 2021. A primeira colocação geral é de Pedagogia - 557.273 estudantes.Dica importante: Confira o Guia Completo sobre a Redação do Enem. Veja dicas incríveis para você arrasar e conseguir uma boa nota nesta parte importante da prova. Tenha acesso aos critérios de avaliação, dicas de especialistas e exemplos nota 1000! Tudo gratuito para você!', 'O curso de marketing é um dos cursos mais procurados e mais importantes para qualquer profissional. Ele permite que os alunos adquiram conhecimentos e habilidades para entender e atuar no mercado de forma eficaz.No curso, os estudantes aprendem sobre os principais conceitos de marketing, como por exemplo: análise de mercado, segmentação de mercado, estratégias de marketing, plano de marketing, pesquisa de mercado, branding, publicidade, relações públicas, entre outros. Os alunos também aprendem sobre as principais ferramentas utilizadas no marketing digital, como SEO, SEM, Google Analytics, redes sociais, e-mail marketing, entre outras.Outra parte importante da faculdade de Marketing é o estudo de como as empresas podem se adaptar às mudanças do mercado, bem como a avaliação dos resultados obtidos com as suas ações de marketing.Com o curso, os alunos também têm a oportunidade de conhecer novas técnicas e ferramentas para criar campanhas de marketing eficazes, que podem ser aplicadas em diversas áreas e empresas.Por fim, o faculdade de marketing permite que os alunos tenham uma visão holística do marketing, bem como conhecimentos e habilidades necessários para serem bem sucedidos nessa área.Entre as disciplinas básicas e específicas do curso de Marketing, encontram-se:Matriz de análise;Comportamento do consumidor;Estratégia;Produto;Preço;Distribuição;Comunicação;Marketing de varejo;Gestão de Marcas;Pesquisa;Serviços;Código de Defesa do Consumidor;Marketing Social e Ambiental;Marketing Digital.A finalidade do marketing é criar valor para o cliente e gerar lucro para a empresa. Ele busca identificar as necessidades e desejos dos consumidores, desenvolver produtos e serviços que atendam essas demandas e promovê-los de forma eficaz para alcançar o público-alvo. Além disso, o setor também busca estabelecer e manter relacionamentos duradouros com os clientes, oferecendo um atendimento de qualidade e proporcionando experiências positivas.Ao criar uma estratégia de marketing eficiente, a empresa pode aumentar sua visibilidade e reputação, gerar novas oportunidades de negócio, fidelizar clientes existentes e conquistar novos mercados.Veja também: A grade curricular do curso superior de Marketing, no site da Quero Bolsa.', 'O valor do curso de Marketing pode variar bastante. É possível encontrar mensalidades a partir de R$ 39,90 entre as instituições parceiras da Quero Bolsa.', 'O profissional de Marketing elabora planos estratégicos das áreas de comercialização, marketing e comunicação das empresas, implementando e coordenando a execução de atividades.Ele pode atuar na comunicação corporativa, prestar consultoria a empresas para o lançamento de produtos e serviços, trabalhar com pesquisa para identificar hábitos e necessidades de consumidores e posicionar e promover o trabalho de artistas e influenciadores, entre outras funções.No mercado de trabalho, esse profissional pode atuar em departamentos de marketing de grandes empresas, como consultor em pequenos e médios negócios ou trabalhar em institutos de pesquisa e órgãos públicos.O setor de serviços é o que mais costuma empregar esse profissional. Entre as áreas mais aquecidas estão marketing digital, cultural e promocional.', 'O profissional de marketing é responsável por desenvolver estratégias e planejar ações de comunicação e marketing que buscam atingir os objetivos da empresa. Ele trabalha diretamente com planejamento de campanhas, produção de conteúdo, análise de dados e desenvolvimento de insights.O profissional de marketing precisa ter conhecimento sobre análise de mercado, segmentação, planejamento de estratégias, desenvolvimento de produtos e gestão de marca. O profissional de marketing pode trabalhar em agências de publicidade, em empresas de produtos ou serviços, em departamentos de marketing ou em empresas de desenvolvimento de software.Ele é responsável por entender as necessidades da empresa e desenvolver estratégias de marketing que ajudarão a alcançar os objetivos da mesma. Ele também pode trabalhar em departamentos de comunicação, desenvolvendo estratégias de comunicação para alcançar os objetivos da empresa.Além disso, ele pode trabalhar como consultor de marketing, ajudando outras empresas a desenvolverem seus planos de marketing.O profissional de marketing também pode trabalhar no setor de e-commerce, desenvolvendo estratégias para aumentar as vendas on-line. Ele também pode trabalhar em empresas de mídia, desenvolvendo estratégias para o aumento de audiência.Caso você tenha dúvidas sobre o curso de Marketing ou profissões nesta área, faça o seu questionamento na Comunidade Quero. A Comunidade Quero é um ambiente para troca de conhecimento, onde você pode tirar suas dúvidas e ajudar outros integrantes da Comunidade com as dúvidas sobre o curso.Veja também: O Guia de Profissões da Quero Bolsa! São mais de 350 páginas sobre as diversas possibilidades profissionais do mercado de trabalho. Sobre a área, você poderá conferir detalhes sobre as profissões de: analista de marketing, assistente de marketing e outras profissões.', 'Uma das principais exigências é a familiaridade com as principais ferramentas de marketing. Os profissionais de marketing devem estar familiarizados com a utilização de ferramentas como o Google Adwords, o Facebook Ads e o LinkedIn Ads.Além disso, eles também devem ter conhecimento sobre como usar o email marketing e os principais canais de mídia social. O profissional de marketing também deve ter habilidades em comunicação, de comunicar suas ideias de maneira clara e eficaz, tanto oralmente quanto por escrito.Eles também precisam ter habilidades em escrita criativa para produzir conteúdo interessante e persuasivo para os clientes. Outra habilidade fundamental para o profissional de marketing é o raciocínio analítico. Os profissionais de marketing precisam ser capazes de analisar dados e tomar decisões estratégicas baseadas nesses dados.Isso inclui saber identificar tendências de mercado, avaliar os resultados de campanhas e tomar decisões informadas a respeito de novas estratégias. Por fim, os profissionais de marketing devem ter boas habilidades de gestão de tempo. Eles precisam ser capazes de administrar seu tempo eficazmente para realizar todas as tarefas exigidas - gerenciar projetos, conduzir reuniões e estabelecer prazos realistas.As profissões na área de Marketing que foram destacadas pelo Guia de 2023 são: Analista de inteligência de mercado, Gerente de marketing digital, Gerente de e-commerce e Analista de CRO.Marketing em alta: A edição 2023 do guia salarial da Robert Half listou algumas profissões na área do Marketing em alta para o ano da publicação. Coordenador de marketing digital, Gerente de e-commerce, Executivo de contas, Gerente de marketing digital e Analista de marketing digital foram algumas carreiras listadas como destaque pela Robert Half.Destaque para as profissões que trabalham na área analítica: Analista de inteligência de mercado e Analista de inteligência de negócios, por exemplo.Caso você tenha dúvidas se esta profissão é a escolha certa para você, não deixe de conferir o Teste Vocacional da Quero Bolsa. É rápido, gratuito e pode te ajudar nesta importante escolha profissional.\""
      ]
     },
     "execution_count": 16,
     "metadata": {},
     "output_type": "execute_result"
    }
   ],
   "source": [
    "df['descricao'] = df['descricao'].map(transforma_descricao)\n",
    "df.descricao.loc[0]"
   ]
  },
  {
   "cell_type": "markdown",
   "id": "0ae4b104",
   "metadata": {},
   "source": [
    "\n"
   ]
  },
  {
   "cell_type": "markdown",
   "id": "850ba1e0",
   "metadata": {},
   "source": [
    "<h1>Modelo</h1>"
   ]
  },
  {
   "cell_type": "code",
   "execution_count": 27,
   "id": "091ed8b1",
   "metadata": {},
   "outputs": [],
   "source": [
    "openai.api_key = os.getenv(\"OPENAI_API_KEY\")"
   ]
  },
  {
   "cell_type": "code",
   "execution_count": 19,
   "id": "8f36b862",
   "metadata": {},
   "outputs": [],
   "source": [
    "embedding_model = \"text-embedding-ada-002\"\n",
    "embedding_encoding = \"cl100k_base\"\n",
    "max_tokens = 8000 "
   ]
  },
  {
   "cell_type": "code",
   "execution_count": 20,
   "id": "3630cb1b",
   "metadata": {},
   "outputs": [],
   "source": [
    "encoding = tiktoken.get_encoding(embedding_encoding)"
   ]
  },
  {
   "cell_type": "code",
   "execution_count": 22,
   "id": "51b00c6e",
   "metadata": {},
   "outputs": [
    {
     "data": {
      "text/plain": [
       "13"
      ]
     },
     "execution_count": 22,
     "metadata": {},
     "output_type": "execute_result"
    }
   ],
   "source": [
    "df[\"n_tokens\"] = df.descricao.apply(lambda x: len(encoding.encode(x)))\n",
    "df = df[df.n_tokens <= max_tokens]\n",
    "len(df)"
   ]
  },
  {
   "cell_type": "code",
   "execution_count": 23,
   "id": "a43eda82",
   "metadata": {},
   "outputs": [
    {
     "data": {
      "text/html": [
       "<div>\n",
       "<style scoped>\n",
       "    .dataframe tbody tr th:only-of-type {\n",
       "        vertical-align: middle;\n",
       "    }\n",
       "\n",
       "    .dataframe tbody tr th {\n",
       "        vertical-align: top;\n",
       "    }\n",
       "\n",
       "    .dataframe thead th {\n",
       "        text-align: right;\n",
       "    }\n",
       "</style>\n",
       "<table border=\"1\" class=\"dataframe\">\n",
       "  <thead>\n",
       "    <tr style=\"text-align: right;\">\n",
       "      <th></th>\n",
       "      <th>nome_curso</th>\n",
       "      <th>descricao</th>\n",
       "      <th>materias</th>\n",
       "      <th>tipo</th>\n",
       "      <th>duracao</th>\n",
       "      <th>n_tokens</th>\n",
       "    </tr>\n",
       "  </thead>\n",
       "  <tbody>\n",
       "    <tr>\n",
       "      <th>0</th>\n",
       "      <td>marketing</td>\n",
       "      <td>Marketing é o conjunto de estratégias e ações ...</td>\n",
       "      <td>['Administração de Compras e Vendas', 'Adminis...</td>\n",
       "      <td>grad</td>\n",
       "      <td>8</td>\n",
       "      <td>2649</td>\n",
       "    </tr>\n",
       "    <tr>\n",
       "      <th>1</th>\n",
       "      <td>comunicacao-social</td>\n",
       "      <td>A Comunicação Social é a área da Ciência Socia...</td>\n",
       "      <td>['Antropologia e Cultura Brasileira', 'Cibercu...</td>\n",
       "      <td>grad</td>\n",
       "      <td>8</td>\n",
       "      <td>1231</td>\n",
       "    </tr>\n",
       "    <tr>\n",
       "      <th>2</th>\n",
       "      <td>engenharia-ambiental</td>\n",
       "      <td>A Engenharia Ambiental é a área da engenharia ...</td>\n",
       "      <td>['América Latina e Sustentabilidade Socioambie...</td>\n",
       "      <td>grad</td>\n",
       "      <td>10</td>\n",
       "      <td>3227</td>\n",
       "    </tr>\n",
       "    <tr>\n",
       "      <th>3</th>\n",
       "      <td>gestao-ambiental</td>\n",
       "      <td>É a prática de gerenciar os recursos naturais ...</td>\n",
       "      <td>['Atividades Complementares', 'Auditoria e Cer...</td>\n",
       "      <td>grad ou tec</td>\n",
       "      <td>6</td>\n",
       "      <td>2662</td>\n",
       "    </tr>\n",
       "    <tr>\n",
       "      <th>4</th>\n",
       "      <td>psicologia</td>\n",
       "      <td>[\"Psicologia é a ciência dedicada ao estudo da...</td>\n",
       "      <td>['Antropologia', 'Bases Epistemológicas da Psi...</td>\n",
       "      <td>grad</td>\n",
       "      <td>10</td>\n",
       "      <td>4789</td>\n",
       "    </tr>\n",
       "  </tbody>\n",
       "</table>\n",
       "</div>"
      ],
      "text/plain": [
       "             nome_curso                                          descricao  \\\n",
       "0             marketing  Marketing é o conjunto de estratégias e ações ...   \n",
       "1    comunicacao-social  A Comunicação Social é a área da Ciência Socia...   \n",
       "2  engenharia-ambiental  A Engenharia Ambiental é a área da engenharia ...   \n",
       "3      gestao-ambiental  É a prática de gerenciar os recursos naturais ...   \n",
       "4            psicologia  [\"Psicologia é a ciência dedicada ao estudo da...   \n",
       "\n",
       "                                            materias         tipo duracao  \\\n",
       "0  ['Administração de Compras e Vendas', 'Adminis...         grad       8   \n",
       "1  ['Antropologia e Cultura Brasileira', 'Cibercu...         grad       8   \n",
       "2  ['América Latina e Sustentabilidade Socioambie...         grad      10   \n",
       "3  ['Atividades Complementares', 'Auditoria e Cer...  grad ou tec       6   \n",
       "4  ['Antropologia', 'Bases Epistemológicas da Psi...         grad      10   \n",
       "\n",
       "   n_tokens  \n",
       "0      2649  \n",
       "1      1231  \n",
       "2      3227  \n",
       "3      2662  \n",
       "4      4789  "
      ]
     },
     "execution_count": 23,
     "metadata": {},
     "output_type": "execute_result"
    }
   ],
   "source": [
    "df.head()"
   ]
  },
  {
   "cell_type": "code",
   "execution_count": 28,
   "id": "ccac9d96",
   "metadata": {},
   "outputs": [
    {
     "name": "stdout",
     "output_type": "stream",
     "text": [
      "CPU times: user 176 ms, sys: 5.02 ms, total: 181 ms\n",
      "Wall time: 13.9 s\n"
     ]
    }
   ],
   "source": [
    "%%time\n",
    "df[\"embedding\"] = df.descricao.apply(lambda x: get_embedding(x, engine=embedding_model))\n",
    "df.to_csv(\"../data/Model_embedding_Cursos.csv\")"
   ]
  },
  {
   "cell_type": "code",
   "execution_count": 29,
   "id": "4a4b69a1",
   "metadata": {},
   "outputs": [
    {
     "data": {
      "text/html": [
       "<div>\n",
       "<style scoped>\n",
       "    .dataframe tbody tr th:only-of-type {\n",
       "        vertical-align: middle;\n",
       "    }\n",
       "\n",
       "    .dataframe tbody tr th {\n",
       "        vertical-align: top;\n",
       "    }\n",
       "\n",
       "    .dataframe thead th {\n",
       "        text-align: right;\n",
       "    }\n",
       "</style>\n",
       "<table border=\"1\" class=\"dataframe\">\n",
       "  <thead>\n",
       "    <tr style=\"text-align: right;\">\n",
       "      <th></th>\n",
       "      <th>nome_curso</th>\n",
       "      <th>descricao</th>\n",
       "      <th>materias</th>\n",
       "      <th>tipo</th>\n",
       "      <th>duracao</th>\n",
       "      <th>n_tokens</th>\n",
       "      <th>embedding</th>\n",
       "    </tr>\n",
       "  </thead>\n",
       "  <tbody>\n",
       "    <tr>\n",
       "      <th>0</th>\n",
       "      <td>marketing</td>\n",
       "      <td>Marketing é o conjunto de estratégias e ações ...</td>\n",
       "      <td>['Administração de Compras e Vendas', 'Adminis...</td>\n",
       "      <td>grad</td>\n",
       "      <td>8</td>\n",
       "      <td>2649</td>\n",
       "      <td>[-0.023170089349150658, -0.0017355696763843298...</td>\n",
       "    </tr>\n",
       "    <tr>\n",
       "      <th>1</th>\n",
       "      <td>comunicacao-social</td>\n",
       "      <td>A Comunicação Social é a área da Ciência Socia...</td>\n",
       "      <td>['Antropologia e Cultura Brasileira', 'Cibercu...</td>\n",
       "      <td>grad</td>\n",
       "      <td>8</td>\n",
       "      <td>1231</td>\n",
       "      <td>[-0.01699669472873211, 0.009934777393937111, 0...</td>\n",
       "    </tr>\n",
       "    <tr>\n",
       "      <th>2</th>\n",
       "      <td>engenharia-ambiental</td>\n",
       "      <td>A Engenharia Ambiental é a área da engenharia ...</td>\n",
       "      <td>['América Latina e Sustentabilidade Socioambie...</td>\n",
       "      <td>grad</td>\n",
       "      <td>10</td>\n",
       "      <td>3227</td>\n",
       "      <td>[0.019423266872763634, -0.008352257311344147, ...</td>\n",
       "    </tr>\n",
       "    <tr>\n",
       "      <th>3</th>\n",
       "      <td>gestao-ambiental</td>\n",
       "      <td>É a prática de gerenciar os recursos naturais ...</td>\n",
       "      <td>['Atividades Complementares', 'Auditoria e Cer...</td>\n",
       "      <td>grad ou tec</td>\n",
       "      <td>6</td>\n",
       "      <td>2662</td>\n",
       "      <td>[0.01468762569129467, -0.003767862217500806, 0...</td>\n",
       "    </tr>\n",
       "    <tr>\n",
       "      <th>4</th>\n",
       "      <td>psicologia</td>\n",
       "      <td>[\"Psicologia é a ciência dedicada ao estudo da...</td>\n",
       "      <td>['Antropologia', 'Bases Epistemológicas da Psi...</td>\n",
       "      <td>grad</td>\n",
       "      <td>10</td>\n",
       "      <td>4789</td>\n",
       "      <td>[-0.0025111641734838486, 0.016500156372785568,...</td>\n",
       "    </tr>\n",
       "  </tbody>\n",
       "</table>\n",
       "</div>"
      ],
      "text/plain": [
       "             nome_curso                                          descricao  \\\n",
       "0             marketing  Marketing é o conjunto de estratégias e ações ...   \n",
       "1    comunicacao-social  A Comunicação Social é a área da Ciência Socia...   \n",
       "2  engenharia-ambiental  A Engenharia Ambiental é a área da engenharia ...   \n",
       "3      gestao-ambiental  É a prática de gerenciar os recursos naturais ...   \n",
       "4            psicologia  [\"Psicologia é a ciência dedicada ao estudo da...   \n",
       "\n",
       "                                            materias         tipo duracao  \\\n",
       "0  ['Administração de Compras e Vendas', 'Adminis...         grad       8   \n",
       "1  ['Antropologia e Cultura Brasileira', 'Cibercu...         grad       8   \n",
       "2  ['América Latina e Sustentabilidade Socioambie...         grad      10   \n",
       "3  ['Atividades Complementares', 'Auditoria e Cer...  grad ou tec       6   \n",
       "4  ['Antropologia', 'Bases Epistemológicas da Psi...         grad      10   \n",
       "\n",
       "   n_tokens                                          embedding  \n",
       "0      2649  [-0.023170089349150658, -0.0017355696763843298...  \n",
       "1      1231  [-0.01699669472873211, 0.009934777393937111, 0...  \n",
       "2      3227  [0.019423266872763634, -0.008352257311344147, ...  \n",
       "3      2662  [0.01468762569129467, -0.003767862217500806, 0...  \n",
       "4      4789  [-0.0025111641734838486, 0.016500156372785568,...  "
      ]
     },
     "execution_count": 29,
     "metadata": {},
     "output_type": "execute_result"
    }
   ],
   "source": [
    "df.head()"
   ]
  },
  {
   "cell_type": "code",
   "execution_count": 30,
   "id": "2ea8b837",
   "metadata": {},
   "outputs": [],
   "source": [
    "matrix = np.array(df.embedding.tolist())"
   ]
  },
  {
   "cell_type": "code",
   "execution_count": 44,
   "id": "0a9177fe",
   "metadata": {},
   "outputs": [],
   "source": [
    "n_clusters = 7"
   ]
  },
  {
   "cell_type": "code",
   "execution_count": 45,
   "id": "d391badd",
   "metadata": {},
   "outputs": [
    {
     "data": {
      "text/plain": [
       "KMeans(n_clusters=7, random_state=42)"
      ]
     },
     "execution_count": 45,
     "metadata": {},
     "output_type": "execute_result"
    }
   ],
   "source": [
    "kmeans = KMeans(n_clusters=n_clusters, init=\"k-means++\", random_state=42)\n",
    "kmeans.fit(matrix)"
   ]
  },
  {
   "cell_type": "code",
   "execution_count": 46,
   "id": "52bed018",
   "metadata": {},
   "outputs": [],
   "source": [
    "labels = kmeans.labels_\n",
    "df[\"Cluster\"] = labels "
   ]
  },
  {
   "cell_type": "code",
   "execution_count": 47,
   "id": "c07b0d84",
   "metadata": {},
   "outputs": [
    {
     "data": {
      "text/html": [
       "<div>\n",
       "<style scoped>\n",
       "    .dataframe tbody tr th:only-of-type {\n",
       "        vertical-align: middle;\n",
       "    }\n",
       "\n",
       "    .dataframe tbody tr th {\n",
       "        vertical-align: top;\n",
       "    }\n",
       "\n",
       "    .dataframe thead th {\n",
       "        text-align: right;\n",
       "    }\n",
       "</style>\n",
       "<table border=\"1\" class=\"dataframe\">\n",
       "  <thead>\n",
       "    <tr style=\"text-align: right;\">\n",
       "      <th></th>\n",
       "      <th>nome_curso</th>\n",
       "      <th>descricao</th>\n",
       "      <th>materias</th>\n",
       "      <th>tipo</th>\n",
       "      <th>duracao</th>\n",
       "      <th>n_tokens</th>\n",
       "      <th>embedding</th>\n",
       "      <th>Cluster</th>\n",
       "    </tr>\n",
       "  </thead>\n",
       "  <tbody>\n",
       "    <tr>\n",
       "      <th>0</th>\n",
       "      <td>marketing</td>\n",
       "      <td>Marketing é o conjunto de estratégias e ações ...</td>\n",
       "      <td>['Administração de Compras e Vendas', 'Adminis...</td>\n",
       "      <td>grad</td>\n",
       "      <td>8</td>\n",
       "      <td>2649</td>\n",
       "      <td>[-0.023170089349150658, -0.0017355696763843298...</td>\n",
       "      <td>5</td>\n",
       "    </tr>\n",
       "    <tr>\n",
       "      <th>1</th>\n",
       "      <td>comunicacao-social</td>\n",
       "      <td>A Comunicação Social é a área da Ciência Socia...</td>\n",
       "      <td>['Antropologia e Cultura Brasileira', 'Cibercu...</td>\n",
       "      <td>grad</td>\n",
       "      <td>8</td>\n",
       "      <td>1231</td>\n",
       "      <td>[-0.01699669472873211, 0.009934777393937111, 0...</td>\n",
       "      <td>6</td>\n",
       "    </tr>\n",
       "    <tr>\n",
       "      <th>2</th>\n",
       "      <td>engenharia-ambiental</td>\n",
       "      <td>A Engenharia Ambiental é a área da engenharia ...</td>\n",
       "      <td>['América Latina e Sustentabilidade Socioambie...</td>\n",
       "      <td>grad</td>\n",
       "      <td>10</td>\n",
       "      <td>3227</td>\n",
       "      <td>[0.019423266872763634, -0.008352257311344147, ...</td>\n",
       "      <td>4</td>\n",
       "    </tr>\n",
       "    <tr>\n",
       "      <th>3</th>\n",
       "      <td>gestao-ambiental</td>\n",
       "      <td>É a prática de gerenciar os recursos naturais ...</td>\n",
       "      <td>['Atividades Complementares', 'Auditoria e Cer...</td>\n",
       "      <td>grad ou tec</td>\n",
       "      <td>6</td>\n",
       "      <td>2662</td>\n",
       "      <td>[0.01468762569129467, -0.003767862217500806, 0...</td>\n",
       "      <td>4</td>\n",
       "    </tr>\n",
       "    <tr>\n",
       "      <th>4</th>\n",
       "      <td>psicologia</td>\n",
       "      <td>[\"Psicologia é a ciência dedicada ao estudo da...</td>\n",
       "      <td>['Antropologia', 'Bases Epistemológicas da Psi...</td>\n",
       "      <td>grad</td>\n",
       "      <td>10</td>\n",
       "      <td>4789</td>\n",
       "      <td>[-0.0025111641734838486, 0.016500156372785568,...</td>\n",
       "      <td>0</td>\n",
       "    </tr>\n",
       "  </tbody>\n",
       "</table>\n",
       "</div>"
      ],
      "text/plain": [
       "             nome_curso                                          descricao  \\\n",
       "0             marketing  Marketing é o conjunto de estratégias e ações ...   \n",
       "1    comunicacao-social  A Comunicação Social é a área da Ciência Socia...   \n",
       "2  engenharia-ambiental  A Engenharia Ambiental é a área da engenharia ...   \n",
       "3      gestao-ambiental  É a prática de gerenciar os recursos naturais ...   \n",
       "4            psicologia  [\"Psicologia é a ciência dedicada ao estudo da...   \n",
       "\n",
       "                                            materias         tipo duracao  \\\n",
       "0  ['Administração de Compras e Vendas', 'Adminis...         grad       8   \n",
       "1  ['Antropologia e Cultura Brasileira', 'Cibercu...         grad       8   \n",
       "2  ['América Latina e Sustentabilidade Socioambie...         grad      10   \n",
       "3  ['Atividades Complementares', 'Auditoria e Cer...  grad ou tec       6   \n",
       "4  ['Antropologia', 'Bases Epistemológicas da Psi...         grad      10   \n",
       "\n",
       "   n_tokens                                          embedding  Cluster  \n",
       "0      2649  [-0.023170089349150658, -0.0017355696763843298...        5  \n",
       "1      1231  [-0.01699669472873211, 0.009934777393937111, 0...        6  \n",
       "2      3227  [0.019423266872763634, -0.008352257311344147, ...        4  \n",
       "3      2662  [0.01468762569129467, -0.003767862217500806, 0...        4  \n",
       "4      4789  [-0.0025111641734838486, 0.016500156372785568,...        0  "
      ]
     },
     "execution_count": 47,
     "metadata": {},
     "output_type": "execute_result"
    }
   ],
   "source": [
    "df.head()"
   ]
  },
  {
   "cell_type": "code",
   "execution_count": 55,
   "id": "46c1d138",
   "metadata": {},
   "outputs": [
    {
     "data": {
      "text/html": [
       "<div>\n",
       "<style scoped>\n",
       "    .dataframe tbody tr th:only-of-type {\n",
       "        vertical-align: middle;\n",
       "    }\n",
       "\n",
       "    .dataframe tbody tr th {\n",
       "        vertical-align: top;\n",
       "    }\n",
       "\n",
       "    .dataframe thead th {\n",
       "        text-align: right;\n",
       "    }\n",
       "</style>\n",
       "<table border=\"1\" class=\"dataframe\">\n",
       "  <thead>\n",
       "    <tr style=\"text-align: right;\">\n",
       "      <th></th>\n",
       "      <th>nome_curso</th>\n",
       "      <th>descricao</th>\n",
       "      <th>materias</th>\n",
       "      <th>tipo</th>\n",
       "      <th>duracao</th>\n",
       "      <th>n_tokens</th>\n",
       "      <th>embedding</th>\n",
       "      <th>Cluster</th>\n",
       "    </tr>\n",
       "  </thead>\n",
       "  <tbody>\n",
       "    <tr>\n",
       "      <th>5</th>\n",
       "      <td>ciencia-da-computacao</td>\n",
       "      <td>A Ciência da Computação é o campo que estuda o...</td>\n",
       "      <td>['Algoritmos e Programação', 'Análise e Projet...</td>\n",
       "      <td>grad</td>\n",
       "      <td>8</td>\n",
       "      <td>2392</td>\n",
       "      <td>[0.007760383188724518, 0.010176828131079674, 0...</td>\n",
       "      <td>1</td>\n",
       "    </tr>\n",
       "    <tr>\n",
       "      <th>6</th>\n",
       "      <td>tecnologia-da-informacao</td>\n",
       "      <td>A Tecnologia da Informação (TI) é o estudo da ...</td>\n",
       "      <td>['Banco de Dados', 'Comércio Eletrônico', 'Con...</td>\n",
       "      <td>tec</td>\n",
       "      <td>4</td>\n",
       "      <td>1669</td>\n",
       "      <td>[-0.01176544837653637, -0.0034622945822775364,...</td>\n",
       "      <td>1</td>\n",
       "    </tr>\n",
       "    <tr>\n",
       "      <th>8</th>\n",
       "      <td>redes-de-computadores</td>\n",
       "      <td>O curso de Redes de Computadores forma profiss...</td>\n",
       "      <td>['Administração de Banco de Dados', 'Arquitetu...</td>\n",
       "      <td>grad ou tec</td>\n",
       "      <td>6</td>\n",
       "      <td>797</td>\n",
       "      <td>[-0.012087889015674591, -0.016670309007167816,...</td>\n",
       "      <td>1</td>\n",
       "    </tr>\n",
       "    <tr>\n",
       "      <th>10</th>\n",
       "      <td>analise-e-desenvolvimento-de-sistemas</td>\n",
       "      <td>Análise e Desenvolvimento de Sistemas é a área...</td>\n",
       "      <td>Análise de Sistemas Orientada a Objetos,Ativid...</td>\n",
       "      <td>grad</td>\n",
       "      <td>4-6</td>\n",
       "      <td>2841</td>\n",
       "      <td>[-0.0014441859675571322, 0.003661047201603651,...</td>\n",
       "      <td>1</td>\n",
       "    </tr>\n",
       "  </tbody>\n",
       "</table>\n",
       "</div>"
      ],
      "text/plain": [
       "                               nome_curso  \\\n",
       "5                   ciencia-da-computacao   \n",
       "6                tecnologia-da-informacao   \n",
       "8                   redes-de-computadores   \n",
       "10  analise-e-desenvolvimento-de-sistemas   \n",
       "\n",
       "                                            descricao  \\\n",
       "5   A Ciência da Computação é o campo que estuda o...   \n",
       "6   A Tecnologia da Informação (TI) é o estudo da ...   \n",
       "8   O curso de Redes de Computadores forma profiss...   \n",
       "10  Análise e Desenvolvimento de Sistemas é a área...   \n",
       "\n",
       "                                             materias         tipo duracao  \\\n",
       "5   ['Algoritmos e Programação', 'Análise e Projet...         grad       8   \n",
       "6   ['Banco de Dados', 'Comércio Eletrônico', 'Con...          tec       4   \n",
       "8   ['Administração de Banco de Dados', 'Arquitetu...  grad ou tec       6   \n",
       "10  Análise de Sistemas Orientada a Objetos,Ativid...         grad     4-6   \n",
       "\n",
       "    n_tokens                                          embedding  Cluster  \n",
       "5       2392  [0.007760383188724518, 0.010176828131079674, 0...        1  \n",
       "6       1669  [-0.01176544837653637, -0.0034622945822775364,...        1  \n",
       "8        797  [-0.012087889015674591, -0.016670309007167816,...        1  \n",
       "10      2841  [-0.0014441859675571322, 0.003661047201603651,...        1  "
      ]
     },
     "execution_count": 55,
     "metadata": {},
     "output_type": "execute_result"
    }
   ],
   "source": [
    "df[df['Cluster'] == 1]"
   ]
  },
  {
   "cell_type": "code",
   "execution_count": 49,
   "id": "f1cea218",
   "metadata": {},
   "outputs": [],
   "source": [
    "tsne = TSNE(n_components=2, perplexity=15, random_state=11, init='random', learning_rate=200) "
   ]
  },
  {
   "cell_type": "code",
   "execution_count": 50,
   "id": "ddc38c73",
   "metadata": {},
   "outputs": [
    {
     "data": {
      "text/plain": [
       "(13, 2)"
      ]
     },
     "execution_count": 50,
     "metadata": {},
     "output_type": "execute_result"
    }
   ],
   "source": [
    "vis_dims = tsne.fit_transform(matrix)\n",
    "vis_dims.shape"
   ]
  },
  {
   "cell_type": "code",
   "execution_count": 51,
   "id": "a8b9594e",
   "metadata": {},
   "outputs": [],
   "source": [
    "x = [x for x,y in vis_dims]\n",
    "y = [y for x,y in vis_dims]"
   ]
  },
  {
   "cell_type": "code",
   "execution_count": 54,
   "id": "c79ff61b",
   "metadata": {},
   "outputs": [
    {
     "data": {
      "image/png": "[encoded data removed]",
      "text/plain": [
       "<Figure size 720x504 with 1 Axes>"
      ]
     },
     "metadata": {
      "needs_background": "light"
     },
     "output_type": "display_data"
    }
   ],
   "source": [
    "fig, ax = plt.subplots(figsize=(10, 7))\n",
    "for category, color in enumerate([\"purple\", \"green\", \"red\", \"blue\", \"orange\", 'brown', 'gray', ]):\n",
    "    xs = np.array(x)[df.Cluster == category]\n",
    "    ys = np.array(y)[df.Cluster == category]\n",
    "    ax.scatter(xs, ys, color=color, alpha=0.3)\n",
    "    avg_x = xs.mean()\n",
    "    avg_y = ys.mean()\n",
    "    ax.scatter(avg_x, avg_y, marker=\"x\", color=color, s=100)\n",
    "\n",
    "ax.set_title(\"Clusters of Courses visualized 2d with K-means\", fontsize=14)\n",
    "plt.show()"
   ]
  },
  {
   "cell_type": "code",
   "execution_count": 53,
   "id": "409657e5",
   "metadata": {},
   "outputs": [
    {
     "name": "stdout",
     "output_type": "stream",
     "text": [
      "Cluster 0 Theme:  The reviews all discuss the field of psychoanalytic psychology, including the benefits of taking a course in psychoanalytic psychology, the skills and knowledge required to become a psychoanalyst, and the types of services a psychoanalyst can provide.\n",
      "----------------------------------------------------------------------------------------------------\n",
      "Cluster 1 Theme:  The common theme of these customer reviews is Tecnology of Information (TI). They discuss the course of Tecnology of Information, the value of the course, the professional of Tecnology of Information, the curriculum of the course, and the requirements to become a professional of Tecnology of Information.\n",
      "----------------------------------------------------------------------------------------------------\n",
      "Cluster 2 Theme: "
     ]
    },
    {
     "ename": "InvalidRequestError",
     "evalue": "This model's maximum context length is 4097 tokens, however you requested 5923 tokens (5833 in your prompt; 90 for the completion). Please reduce your prompt; or completion length.",
     "output_type": "error",
     "traceback": [
      "\u001b[0;31m---------------------------------------------------------------------------\u001b[0m",
      "\u001b[0;31mInvalidRequestError\u001b[0m                       Traceback (most recent call last)",
      "Input \u001b[0;32mIn [53]\u001b[0m, in \u001b[0;36m<cell line: 2>\u001b[0;34m()\u001b[0m\n\u001b[1;32m      3\u001b[0m \u001b[38;5;28mprint\u001b[39m(\u001b[38;5;124mf\u001b[39m\u001b[38;5;124m\"\u001b[39m\u001b[38;5;124mCluster \u001b[39m\u001b[38;5;132;01m{\u001b[39;00mi\u001b[38;5;132;01m}\u001b[39;00m\u001b[38;5;124m Theme:\u001b[39m\u001b[38;5;124m\"\u001b[39m, end\u001b[38;5;241m=\u001b[39m\u001b[38;5;124m\"\u001b[39m\u001b[38;5;124m \u001b[39m\u001b[38;5;124m\"\u001b[39m)\n\u001b[1;32m      5\u001b[0m reviews \u001b[38;5;241m=\u001b[39m \u001b[38;5;124m\"\u001b[39m\u001b[38;5;130;01m\\n\u001b[39;00m\u001b[38;5;124m\"\u001b[39m\u001b[38;5;241m.\u001b[39mjoin(\n\u001b[1;32m      6\u001b[0m     df[df\u001b[38;5;241m.\u001b[39mCluster \u001b[38;5;241m==\u001b[39m i]\n\u001b[1;32m      7\u001b[0m     \u001b[38;5;241m.\u001b[39mdescricao\u001b[38;5;241m.\u001b[39mstr\u001b[38;5;241m.\u001b[39mreplace(\u001b[38;5;124m\"\u001b[39m\u001b[38;5;124mTitle: \u001b[39m\u001b[38;5;124m\"\u001b[39m, \u001b[38;5;124m\"\u001b[39m\u001b[38;5;124m\"\u001b[39m)\n\u001b[0;32m   (...)\u001b[0m\n\u001b[1;32m     10\u001b[0m     \u001b[38;5;241m.\u001b[39mvalues\n\u001b[1;32m     11\u001b[0m )\n\u001b[0;32m---> 12\u001b[0m response \u001b[38;5;241m=\u001b[39m \u001b[43mopenai\u001b[49m\u001b[38;5;241;43m.\u001b[39;49m\u001b[43mCompletion\u001b[49m\u001b[38;5;241;43m.\u001b[39;49m\u001b[43mcreate\u001b[49m\u001b[43m(\u001b[49m\n\u001b[1;32m     13\u001b[0m \u001b[43m    \u001b[49m\u001b[43mengine\u001b[49m\u001b[38;5;241;43m=\u001b[39;49m\u001b[38;5;124;43m\"\u001b[39;49m\u001b[38;5;124;43mtext-davinci-003\u001b[39;49m\u001b[38;5;124;43m\"\u001b[39;49m\u001b[43m,\u001b[49m\n\u001b[1;32m     14\u001b[0m \u001b[43m    \u001b[49m\u001b[43mprompt\u001b[49m\u001b[38;5;241;43m=\u001b[39;49m\u001b[38;5;124;43mf\u001b[39;49m\u001b[38;5;124;43m'\u001b[39;49m\u001b[38;5;124;43mWhat do the following customer reviews have in common?\u001b[39;49m\u001b[38;5;130;43;01m\\n\u001b[39;49;00m\u001b[38;5;130;43;01m\\n\u001b[39;49;00m\u001b[38;5;124;43mCustomer reviews:\u001b[39;49m\u001b[38;5;130;43;01m\\n\u001b[39;49;00m\u001b[38;5;124;43m\"\u001b[39;49m\u001b[38;5;124;43m\"\u001b[39;49m\u001b[38;5;124;43m\"\u001b[39;49m\u001b[38;5;130;43;01m\\n\u001b[39;49;00m\u001b[38;5;132;43;01m{\u001b[39;49;00m\u001b[43mreviews\u001b[49m\u001b[38;5;132;43;01m}\u001b[39;49;00m\u001b[38;5;130;43;01m\\n\u001b[39;49;00m\u001b[38;5;124;43m\"\u001b[39;49m\u001b[38;5;124;43m\"\u001b[39;49m\u001b[38;5;124;43m\"\u001b[39;49m\u001b[38;5;130;43;01m\\n\u001b[39;49;00m\u001b[38;5;130;43;01m\\n\u001b[39;49;00m\u001b[38;5;124;43mTheme:\u001b[39;49m\u001b[38;5;124;43m'\u001b[39;49m\u001b[43m,\u001b[49m\n\u001b[1;32m     15\u001b[0m \u001b[43m    \u001b[49m\u001b[43mtemperature\u001b[49m\u001b[38;5;241;43m=\u001b[39;49m\u001b[38;5;241;43m0\u001b[39;49m\u001b[43m,\u001b[49m\n\u001b[1;32m     16\u001b[0m \u001b[43m    \u001b[49m\u001b[43mmax_tokens\u001b[49m\u001b[38;5;241;43m=\u001b[39;49m\u001b[38;5;241;43m90\u001b[39;49m\u001b[43m,\u001b[49m\n\u001b[1;32m     17\u001b[0m \u001b[43m    \u001b[49m\u001b[43mtop_p\u001b[49m\u001b[38;5;241;43m=\u001b[39;49m\u001b[38;5;241;43m1\u001b[39;49m\u001b[43m,\u001b[49m\n\u001b[1;32m     18\u001b[0m \u001b[43m    \u001b[49m\u001b[43mfrequency_penalty\u001b[49m\u001b[38;5;241;43m=\u001b[39;49m\u001b[38;5;241;43m0\u001b[39;49m\u001b[43m,\u001b[49m\n\u001b[1;32m     19\u001b[0m \u001b[43m    \u001b[49m\u001b[43mpresence_penalty\u001b[49m\u001b[38;5;241;43m=\u001b[39;49m\u001b[38;5;241;43m0\u001b[39;49m\u001b[43m,\u001b[49m\n\u001b[1;32m     20\u001b[0m \u001b[43m\u001b[49m\u001b[43m)\u001b[49m\n\u001b[1;32m     21\u001b[0m \u001b[38;5;28mprint\u001b[39m(response[\u001b[38;5;124m\"\u001b[39m\u001b[38;5;124mchoices\u001b[39m\u001b[38;5;124m\"\u001b[39m][\u001b[38;5;241m0\u001b[39m][\u001b[38;5;124m\"\u001b[39m\u001b[38;5;124mtext\u001b[39m\u001b[38;5;124m\"\u001b[39m]\u001b[38;5;241m.\u001b[39mreplace(\u001b[38;5;124m\"\u001b[39m\u001b[38;5;130;01m\\n\u001b[39;00m\u001b[38;5;124m\"\u001b[39m, \u001b[38;5;124m\"\u001b[39m\u001b[38;5;124m\"\u001b[39m))\n\u001b[1;32m     23\u001b[0m \u001b[38;5;28mprint\u001b[39m(\u001b[38;5;124m\"\u001b[39m\u001b[38;5;124m-\u001b[39m\u001b[38;5;124m\"\u001b[39m \u001b[38;5;241m*\u001b[39m \u001b[38;5;241m100\u001b[39m)\n",
      "File \u001b[0;32m~/anaconda3/lib/python3.9/site-packages/openai/api_resources/completion.py:25\u001b[0m, in \u001b[0;36mCompletion.create\u001b[0;34m(cls, *args, **kwargs)\u001b[0m\n\u001b[1;32m     23\u001b[0m \u001b[38;5;28;01mwhile\u001b[39;00m \u001b[38;5;28;01mTrue\u001b[39;00m:\n\u001b[1;32m     24\u001b[0m     \u001b[38;5;28;01mtry\u001b[39;00m:\n\u001b[0;32m---> 25\u001b[0m         \u001b[38;5;28;01mreturn\u001b[39;00m \u001b[38;5;28;43msuper\u001b[39;49m\u001b[43m(\u001b[49m\u001b[43m)\u001b[49m\u001b[38;5;241;43m.\u001b[39;49m\u001b[43mcreate\u001b[49m\u001b[43m(\u001b[49m\u001b[38;5;241;43m*\u001b[39;49m\u001b[43margs\u001b[49m\u001b[43m,\u001b[49m\u001b[43m \u001b[49m\u001b[38;5;241;43m*\u001b[39;49m\u001b[38;5;241;43m*\u001b[39;49m\u001b[43mkwargs\u001b[49m\u001b[43m)\u001b[49m\n\u001b[1;32m     26\u001b[0m     \u001b[38;5;28;01mexcept\u001b[39;00m TryAgain \u001b[38;5;28;01mas\u001b[39;00m e:\n\u001b[1;32m     27\u001b[0m         \u001b[38;5;28;01mif\u001b[39;00m timeout \u001b[38;5;129;01mis\u001b[39;00m \u001b[38;5;129;01mnot\u001b[39;00m \u001b[38;5;28;01mNone\u001b[39;00m \u001b[38;5;129;01mand\u001b[39;00m time\u001b[38;5;241m.\u001b[39mtime() \u001b[38;5;241m>\u001b[39m start \u001b[38;5;241m+\u001b[39m timeout:\n",
      "File \u001b[0;32m~/anaconda3/lib/python3.9/site-packages/openai/api_resources/abstract/engine_api_resource.py:153\u001b[0m, in \u001b[0;36mEngineAPIResource.create\u001b[0;34m(cls, api_key, api_base, api_type, request_id, api_version, organization, **params)\u001b[0m\n\u001b[1;32m    127\u001b[0m \u001b[38;5;129m@classmethod\u001b[39m\n\u001b[1;32m    128\u001b[0m \u001b[38;5;28;01mdef\u001b[39;00m \u001b[38;5;21mcreate\u001b[39m(\n\u001b[1;32m    129\u001b[0m     \u001b[38;5;28mcls\u001b[39m,\n\u001b[0;32m   (...)\u001b[0m\n\u001b[1;32m    136\u001b[0m     \u001b[38;5;241m*\u001b[39m\u001b[38;5;241m*\u001b[39mparams,\n\u001b[1;32m    137\u001b[0m ):\n\u001b[1;32m    138\u001b[0m     (\n\u001b[1;32m    139\u001b[0m         deployment_id,\n\u001b[1;32m    140\u001b[0m         engine,\n\u001b[0;32m   (...)\u001b[0m\n\u001b[1;32m    150\u001b[0m         api_key, api_base, api_type, api_version, organization, \u001b[38;5;241m*\u001b[39m\u001b[38;5;241m*\u001b[39mparams\n\u001b[1;32m    151\u001b[0m     )\n\u001b[0;32m--> 153\u001b[0m     response, _, api_key \u001b[38;5;241m=\u001b[39m \u001b[43mrequestor\u001b[49m\u001b[38;5;241;43m.\u001b[39;49m\u001b[43mrequest\u001b[49m\u001b[43m(\u001b[49m\n\u001b[1;32m    154\u001b[0m \u001b[43m        \u001b[49m\u001b[38;5;124;43m\"\u001b[39;49m\u001b[38;5;124;43mpost\u001b[39;49m\u001b[38;5;124;43m\"\u001b[39;49m\u001b[43m,\u001b[49m\n\u001b[1;32m    155\u001b[0m \u001b[43m        \u001b[49m\u001b[43murl\u001b[49m\u001b[43m,\u001b[49m\n\u001b[1;32m    156\u001b[0m \u001b[43m        \u001b[49m\u001b[43mparams\u001b[49m\u001b[38;5;241;43m=\u001b[39;49m\u001b[43mparams\u001b[49m\u001b[43m,\u001b[49m\n\u001b[1;32m    157\u001b[0m \u001b[43m        \u001b[49m\u001b[43mheaders\u001b[49m\u001b[38;5;241;43m=\u001b[39;49m\u001b[43mheaders\u001b[49m\u001b[43m,\u001b[49m\n\u001b[1;32m    158\u001b[0m \u001b[43m        \u001b[49m\u001b[43mstream\u001b[49m\u001b[38;5;241;43m=\u001b[39;49m\u001b[43mstream\u001b[49m\u001b[43m,\u001b[49m\n\u001b[1;32m    159\u001b[0m \u001b[43m        \u001b[49m\u001b[43mrequest_id\u001b[49m\u001b[38;5;241;43m=\u001b[39;49m\u001b[43mrequest_id\u001b[49m\u001b[43m,\u001b[49m\n\u001b[1;32m    160\u001b[0m \u001b[43m        \u001b[49m\u001b[43mrequest_timeout\u001b[49m\u001b[38;5;241;43m=\u001b[39;49m\u001b[43mrequest_timeout\u001b[49m\u001b[43m,\u001b[49m\n\u001b[1;32m    161\u001b[0m \u001b[43m    \u001b[49m\u001b[43m)\u001b[49m\n\u001b[1;32m    163\u001b[0m     \u001b[38;5;28;01mif\u001b[39;00m stream:\n\u001b[1;32m    164\u001b[0m         \u001b[38;5;66;03m# must be an iterator\u001b[39;00m\n\u001b[1;32m    165\u001b[0m         \u001b[38;5;28;01massert\u001b[39;00m \u001b[38;5;129;01mnot\u001b[39;00m \u001b[38;5;28misinstance\u001b[39m(response, OpenAIResponse)\n",
      "File \u001b[0;32m~/anaconda3/lib/python3.9/site-packages/openai/api_requestor.py:298\u001b[0m, in \u001b[0;36mAPIRequestor.request\u001b[0;34m(self, method, url, params, headers, files, stream, request_id, request_timeout)\u001b[0m\n\u001b[1;32m    277\u001b[0m \u001b[38;5;28;01mdef\u001b[39;00m \u001b[38;5;21mrequest\u001b[39m(\n\u001b[1;32m    278\u001b[0m     \u001b[38;5;28mself\u001b[39m,\n\u001b[1;32m    279\u001b[0m     method,\n\u001b[0;32m   (...)\u001b[0m\n\u001b[1;32m    286\u001b[0m     request_timeout: Optional[Union[\u001b[38;5;28mfloat\u001b[39m, Tuple[\u001b[38;5;28mfloat\u001b[39m, \u001b[38;5;28mfloat\u001b[39m]]] \u001b[38;5;241m=\u001b[39m \u001b[38;5;28;01mNone\u001b[39;00m,\n\u001b[1;32m    287\u001b[0m ) \u001b[38;5;241m-\u001b[39m\u001b[38;5;241m>\u001b[39m Tuple[Union[OpenAIResponse, Iterator[OpenAIResponse]], \u001b[38;5;28mbool\u001b[39m, \u001b[38;5;28mstr\u001b[39m]:\n\u001b[1;32m    288\u001b[0m     result \u001b[38;5;241m=\u001b[39m \u001b[38;5;28mself\u001b[39m\u001b[38;5;241m.\u001b[39mrequest_raw(\n\u001b[1;32m    289\u001b[0m         method\u001b[38;5;241m.\u001b[39mlower(),\n\u001b[1;32m    290\u001b[0m         url,\n\u001b[0;32m   (...)\u001b[0m\n\u001b[1;32m    296\u001b[0m         request_timeout\u001b[38;5;241m=\u001b[39mrequest_timeout,\n\u001b[1;32m    297\u001b[0m     )\n\u001b[0;32m--> 298\u001b[0m     resp, got_stream \u001b[38;5;241m=\u001b[39m \u001b[38;5;28;43mself\u001b[39;49m\u001b[38;5;241;43m.\u001b[39;49m\u001b[43m_interpret_response\u001b[49m\u001b[43m(\u001b[49m\u001b[43mresult\u001b[49m\u001b[43m,\u001b[49m\u001b[43m \u001b[49m\u001b[43mstream\u001b[49m\u001b[43m)\u001b[49m\n\u001b[1;32m    299\u001b[0m     \u001b[38;5;28;01mreturn\u001b[39;00m resp, got_stream, \u001b[38;5;28mself\u001b[39m\u001b[38;5;241m.\u001b[39mapi_key\n",
      "File \u001b[0;32m~/anaconda3/lib/python3.9/site-packages/openai/api_requestor.py:700\u001b[0m, in \u001b[0;36mAPIRequestor._interpret_response\u001b[0;34m(self, result, stream)\u001b[0m\n\u001b[1;32m    692\u001b[0m     \u001b[38;5;28;01mreturn\u001b[39;00m (\n\u001b[1;32m    693\u001b[0m         \u001b[38;5;28mself\u001b[39m\u001b[38;5;241m.\u001b[39m_interpret_response_line(\n\u001b[1;32m    694\u001b[0m             line, result\u001b[38;5;241m.\u001b[39mstatus_code, result\u001b[38;5;241m.\u001b[39mheaders, stream\u001b[38;5;241m=\u001b[39m\u001b[38;5;28;01mTrue\u001b[39;00m\n\u001b[1;32m    695\u001b[0m         )\n\u001b[1;32m    696\u001b[0m         \u001b[38;5;28;01mfor\u001b[39;00m line \u001b[38;5;129;01min\u001b[39;00m parse_stream(result\u001b[38;5;241m.\u001b[39miter_lines())\n\u001b[1;32m    697\u001b[0m     ), \u001b[38;5;28;01mTrue\u001b[39;00m\n\u001b[1;32m    698\u001b[0m \u001b[38;5;28;01melse\u001b[39;00m:\n\u001b[1;32m    699\u001b[0m     \u001b[38;5;28;01mreturn\u001b[39;00m (\n\u001b[0;32m--> 700\u001b[0m         \u001b[38;5;28;43mself\u001b[39;49m\u001b[38;5;241;43m.\u001b[39;49m\u001b[43m_interpret_response_line\u001b[49m\u001b[43m(\u001b[49m\n\u001b[1;32m    701\u001b[0m \u001b[43m            \u001b[49m\u001b[43mresult\u001b[49m\u001b[38;5;241;43m.\u001b[39;49m\u001b[43mcontent\u001b[49m\u001b[38;5;241;43m.\u001b[39;49m\u001b[43mdecode\u001b[49m\u001b[43m(\u001b[49m\u001b[38;5;124;43m\"\u001b[39;49m\u001b[38;5;124;43mutf-8\u001b[39;49m\u001b[38;5;124;43m\"\u001b[39;49m\u001b[43m)\u001b[49m\u001b[43m,\u001b[49m\n\u001b[1;32m    702\u001b[0m \u001b[43m            \u001b[49m\u001b[43mresult\u001b[49m\u001b[38;5;241;43m.\u001b[39;49m\u001b[43mstatus_code\u001b[49m\u001b[43m,\u001b[49m\n\u001b[1;32m    703\u001b[0m \u001b[43m            \u001b[49m\u001b[43mresult\u001b[49m\u001b[38;5;241;43m.\u001b[39;49m\u001b[43mheaders\u001b[49m\u001b[43m,\u001b[49m\n\u001b[1;32m    704\u001b[0m \u001b[43m            \u001b[49m\u001b[43mstream\u001b[49m\u001b[38;5;241;43m=\u001b[39;49m\u001b[38;5;28;43;01mFalse\u001b[39;49;00m\u001b[43m,\u001b[49m\n\u001b[1;32m    705\u001b[0m \u001b[43m        \u001b[49m\u001b[43m)\u001b[49m,\n\u001b[1;32m    706\u001b[0m         \u001b[38;5;28;01mFalse\u001b[39;00m,\n\u001b[1;32m    707\u001b[0m     )\n",
      "File \u001b[0;32m~/anaconda3/lib/python3.9/site-packages/openai/api_requestor.py:763\u001b[0m, in \u001b[0;36mAPIRequestor._interpret_response_line\u001b[0;34m(self, rbody, rcode, rheaders, stream)\u001b[0m\n\u001b[1;32m    761\u001b[0m stream_error \u001b[38;5;241m=\u001b[39m stream \u001b[38;5;129;01mand\u001b[39;00m \u001b[38;5;124m\"\u001b[39m\u001b[38;5;124merror\u001b[39m\u001b[38;5;124m\"\u001b[39m \u001b[38;5;129;01min\u001b[39;00m resp\u001b[38;5;241m.\u001b[39mdata\n\u001b[1;32m    762\u001b[0m \u001b[38;5;28;01mif\u001b[39;00m stream_error \u001b[38;5;129;01mor\u001b[39;00m \u001b[38;5;129;01mnot\u001b[39;00m \u001b[38;5;241m200\u001b[39m \u001b[38;5;241m<\u001b[39m\u001b[38;5;241m=\u001b[39m rcode \u001b[38;5;241m<\u001b[39m \u001b[38;5;241m300\u001b[39m:\n\u001b[0;32m--> 763\u001b[0m     \u001b[38;5;28;01mraise\u001b[39;00m \u001b[38;5;28mself\u001b[39m\u001b[38;5;241m.\u001b[39mhandle_error_response(\n\u001b[1;32m    764\u001b[0m         rbody, rcode, resp\u001b[38;5;241m.\u001b[39mdata, rheaders, stream_error\u001b[38;5;241m=\u001b[39mstream_error\n\u001b[1;32m    765\u001b[0m     )\n\u001b[1;32m    766\u001b[0m \u001b[38;5;28;01mreturn\u001b[39;00m resp\n",
      "\u001b[0;31mInvalidRequestError\u001b[0m: This model's maximum context length is 4097 tokens, however you requested 5923 tokens (5833 in your prompt; 90 for the completion). Please reduce your prompt; or completion length."
     ]
    }
   ],
   "source": [
    "rev_per_cluster = 1\n",
    "for i in range(n_clusters):\n",
    "    print(f\"Cluster {i} Theme:\", end=\" \")\n",
    "\n",
    "    reviews = \"\\n\".join(\n",
    "        df[df.Cluster == i]\n",
    "        .descricao.str.replace(\"Title: \", \"\")\n",
    "        .str.replace(\"\\n\\nContent: \", \":  \")\n",
    "        .sample(rev_per_cluster, random_state=42)\n",
    "        .values\n",
    "    )\n",
    "    response = openai.Completion.create(\n",
    "        engine=\"text-davinci-003\",\n",
    "        prompt=f'What do the following customer reviews have in common?\\n\\nCustomer reviews:\\n\"\"\"\\n{reviews}\\n\"\"\"\\n\\nTheme:',\n",
    "        temperature=0,\n",
    "        max_tokens=90,\n",
    "        top_p=1,\n",
    "        frequency_penalty=0,\n",
    "        presence_penalty=0,\n",
    "    )\n",
    "    print(response[\"choices\"][0][\"text\"].replace(\"\\n\", \"\"))\n",
    "\n",
    "    print(\"-\" * 100)"
   ]
  },
  {
   "cell_type": "markdown",
   "id": "b72458c0",
   "metadata": {},
   "source": [
    "<h2>Persistindo o Modelo</h2>"
   ]
  },
  {
   "cell_type": "code",
   "execution_count": 56,
   "id": "84cf4977",
   "metadata": {},
   "outputs": [],
   "source": [
    "import pickle"
   ]
  },
  {
   "cell_type": "code",
   "execution_count": 57,
   "id": "bda586cc",
   "metadata": {},
   "outputs": [],
   "source": [
    "with open('models/kmeans.pkl', 'wb') as arquivo:\n",
    "    pickle.dump(kmeans, arquivo)"
   ]
  },
  {
   "cell_type": "markdown",
   "id": "b66077e5",
   "metadata": {},
   "source": [
    "<h1>Profissoes</h1>"
   ]
  },
  {
   "cell_type": "code",
   "execution_count": 59,
   "id": "46902758",
   "metadata": {},
   "outputs": [
    {
     "data": {
      "text/html": [
       "<div>\n",
       "<style scoped>\n",
       "    .dataframe tbody tr th:only-of-type {\n",
       "        vertical-align: middle;\n",
       "    }\n",
       "\n",
       "    .dataframe tbody tr th {\n",
       "        vertical-align: top;\n",
       "    }\n",
       "\n",
       "    .dataframe thead th {\n",
       "        text-align: right;\n",
       "    }\n",
       "</style>\n",
       "<table border=\"1\" class=\"dataframe\">\n",
       "  <thead>\n",
       "    <tr style=\"text-align: right;\">\n",
       "      <th></th>\n",
       "      <th>Unnamed: 0</th>\n",
       "      <th>Nome Curso</th>\n",
       "      <th>Descrição</th>\n",
       "      <th>Cursos</th>\n",
       "    </tr>\n",
       "  </thead>\n",
       "  <tbody>\n",
       "    <tr>\n",
       "      <th>0</th>\n",
       "      <td>0</td>\n",
       "      <td>devops</td>\n",
       "      <td>['Aquele que otimiza a produtividade das opera...</td>\n",
       "      <td>ciencia-da-computacao, analise-e-desenvolvimen...</td>\n",
       "    </tr>\n",
       "    <tr>\n",
       "      <th>1</th>\n",
       "      <td>1</td>\n",
       "      <td>professor</td>\n",
       "      <td>['Aquele que transmite conhecimento e aprendiz...</td>\n",
       "      <td>historia, pedagogia</td>\n",
       "    </tr>\n",
       "    <tr>\n",
       "      <th>2</th>\n",
       "      <td>2</td>\n",
       "      <td>cientista-de-dados</td>\n",
       "      <td>['Aquele que trabalha com uma infinidade de in...</td>\n",
       "      <td>ciencia-da-computacao</td>\n",
       "    </tr>\n",
       "    <tr>\n",
       "      <th>3</th>\n",
       "      <td>3</td>\n",
       "      <td>psicologo-comportamental</td>\n",
       "      <td>['Profissional especializado na compreensão e ...</td>\n",
       "      <td>psicologia, medicina, psicanalise</td>\n",
       "    </tr>\n",
       "    <tr>\n",
       "      <th>4</th>\n",
       "      <td>4</td>\n",
       "      <td>analista-ambiental</td>\n",
       "      <td>['Aquele que organiza e implementa estratégias...</td>\n",
       "      <td>engenharia-ambiental, gestao-ambiental</td>\n",
       "    </tr>\n",
       "  </tbody>\n",
       "</table>\n",
       "</div>"
      ],
      "text/plain": [
       "   Unnamed: 0                Nome Curso  \\\n",
       "0           0                    devops   \n",
       "1           1                 professor   \n",
       "2           2        cientista-de-dados   \n",
       "3           3  psicologo-comportamental   \n",
       "4           4        analista-ambiental   \n",
       "\n",
       "                                           Descrição  \\\n",
       "0  ['Aquele que otimiza a produtividade das opera...   \n",
       "1  ['Aquele que transmite conhecimento e aprendiz...   \n",
       "2  ['Aquele que trabalha com uma infinidade de in...   \n",
       "3  ['Profissional especializado na compreensão e ...   \n",
       "4  ['Aquele que organiza e implementa estratégias...   \n",
       "\n",
       "                                              Cursos  \n",
       "0  ciencia-da-computacao, analise-e-desenvolvimen...  \n",
       "1                                historia, pedagogia  \n",
       "2                              ciencia-da-computacao  \n",
       "3                  psicologia, medicina, psicanalise  \n",
       "4             engenharia-ambiental, gestao-ambiental  "
      ]
     },
     "execution_count": 59,
     "metadata": {},
     "output_type": "execute_result"
    }
   ],
   "source": [
    "df_2 = pd.read_csv(\"../data/profissoes.csv\")\n",
    "df_2.head()"
   ]
  },
  {
   "cell_type": "code",
   "execution_count": 60,
   "id": "d6c78753",
   "metadata": {},
   "outputs": [
    {
     "data": {
      "text/html": [
       "<div>\n",
       "<style scoped>\n",
       "    .dataframe tbody tr th:only-of-type {\n",
       "        vertical-align: middle;\n",
       "    }\n",
       "\n",
       "    .dataframe tbody tr th {\n",
       "        vertical-align: top;\n",
       "    }\n",
       "\n",
       "    .dataframe thead th {\n",
       "        text-align: right;\n",
       "    }\n",
       "</style>\n",
       "<table border=\"1\" class=\"dataframe\">\n",
       "  <thead>\n",
       "    <tr style=\"text-align: right;\">\n",
       "      <th></th>\n",
       "      <th>Nome Curso</th>\n",
       "      <th>Descrição</th>\n",
       "      <th>Cursos</th>\n",
       "    </tr>\n",
       "  </thead>\n",
       "  <tbody>\n",
       "    <tr>\n",
       "      <th>0</th>\n",
       "      <td>devops</td>\n",
       "      <td>['Aquele que otimiza a produtividade das opera...</td>\n",
       "      <td>ciencia-da-computacao, analise-e-desenvolvimen...</td>\n",
       "    </tr>\n",
       "  </tbody>\n",
       "</table>\n",
       "</div>"
      ],
      "text/plain": [
       "  Nome Curso                                          Descrição  \\\n",
       "0     devops  ['Aquele que otimiza a produtividade das opera...   \n",
       "\n",
       "                                              Cursos  \n",
       "0  ciencia-da-computacao, analise-e-desenvolvimen...  "
      ]
     },
     "execution_count": 60,
     "metadata": {},
     "output_type": "execute_result"
    }
   ],
   "source": [
    "df_2.drop(columns=['Unnamed: 0'], inplace=True)\n",
    "df_2.head(1)"
   ]
  },
  {
   "cell_type": "code",
   "execution_count": 61,
   "id": "767dd3af",
   "metadata": {},
   "outputs": [
    {
     "data": {
      "text/plain": [
       "Index(['nome_curso', 'descricao', 'cursos'], dtype='object')"
      ]
     },
     "execution_count": 61,
     "metadata": {},
     "output_type": "execute_result"
    }
   ],
   "source": [
    "df_2.columns = ['nome_curso', 'descricao', 'cursos']\n",
    "df_2.columns"
   ]
  },
  {
   "cell_type": "code",
   "execution_count": 62,
   "id": "8bfbb713",
   "metadata": {},
   "outputs": [
    {
     "data": {
      "text/plain": [
       "6"
      ]
     },
     "execution_count": 62,
     "metadata": {},
     "output_type": "execute_result"
    }
   ],
   "source": [
    "df_2.nome_curso.nunique()"
   ]
  },
  {
   "cell_type": "code",
   "execution_count": 63,
   "id": "94be0db2",
   "metadata": {},
   "outputs": [
    {
     "data": {
      "text/plain": [
       "'[\\'Aquele que otimiza a produtividade das operações na área de Tecnologia da Informação. Profissional tem ganhado espaço no mercado e precisa estar antenado nas novidades constantes que surgem na área\\', \\'O profissional especialista em DevOps (Desenvolvimento & Operações, de maneira simplificada) é aquele que atua na integração entre as equipes de desenvolvimento de software, especialmente nas áreas de desenvolvimento e operações, integrando e monitorando suas atividades para buscar um desempenho mais otimizado e simplificado.Os especialistas em DevOps devem promover a padronização dos processos em Tecnologia da Informação, buscando liberação mais rápida de atualizações de novas versões do produto, por meio de uso de metodologias ágeis, ferramentas de produtividade. Mas, além disso, é função desse profissional implementar uma nova cultura nos espaços de trabalho, com base na priorização dos indivíduos e das interações acima dos processos, do bom funcionamento dos softwares desenvolvidos, das necessidades do cliente e da alta flexibilidade para lidar com mudanças.A agilidade e velocidade desenvolvida pelo profissional permitem o desenvolvimento de novos softwares e serviços de qualidade em um ritmo rápido, abrindo espaço para uma competitividade mercadológica eficaz e melhor atendimento aos clientes.O método de DevOps se popularizou por meados de 2007, emergindo como uma forma de revolucionar a produção e programação de novos softwares. Se outrora as equipes de desenvolvimento e operações possuíam interesses e métricas distintas, hoje, por meio dos processos, ambas direcionam o olhar para o mesmo cenário e objetivo final.O que é DevOps?DevOps é uma abordagem colaborativa que visa integrar o desenvolvimento de software (Dev) e as operações de infraestrutura (Ops), promovendo maior agilidade, eficiência e qualidade nos processos de entrega de software. É um conjunto de práticas e ferramentas que enfatizam a automação, a comunicação e a colaboração entre desenvolvedores e operadores.\\', \"O profissional de DevOps pode atuar ao mesmo tempo no desenvolvimento dos sistemas e na infraestrutura. Ele atua com as equipes de planejamento do projeto, passando em seguida para o desenvolvimento, no qual lida diretamente com o controle dos códigos e na integração dele com a segurança da rede. Já na fase de automação do projeto, o profissional de DevOps busca prevenir erros, bugs, detecção de problemas, além de buscar o máximo de automação nas operações. Por fim, o profissional trabalha na entrega do produto/serviço final, buscando feedbacks dos clientes para buscar possíveis atualizações.\\\\nAlém disso, com o surgimento de ferramentas de auxílio, o profissional pode optar por plataformas como forma de organizar demandas. É o caso do Azure DevOps.\\\\nO Azure DevOps é uma plataforma, desenvolvida pela Microsoft, que tem como objetivo auxiliar profissionais em projetos relacionados a DevOps, organizando demandas, realizando acompanhamentos, entre outros serviços relacionados.Quais são as ferramentas de DevOps?No contexto da implementação do DevOps, existem diversas ferramentas que auxiliam na automação, integração e colaboração entre as equipes de desenvolvimento e operações, como:Jenkins: Automatiza tarefas como compilação, teste e implantação de software, permitindo a entrega contínua e a rápida detecção de problemas.Docker: Simplifica o empacotamento e a distribuição de aplicativos e suas dependências. Kubernetes: Gerencia a implantação, o dimensionamento e o monitoramento de aplicativos em contêineres. Ansible: Permite a configuração e o gerenciamento de infraestrutura e aplicativos de forma declarativa. Git: Permite o gerenciamento eficiente de código-fonte, rastreando alterações e facilitando a colaboração.Puppet: Automatiza a implantação e a configuração de servidores e sistemas. Nagios: Verifica a disponibilidade e o desempenho dos sistemas, fornecendo alertas em tempo real sobre possíveis problemas.Essas são apenas algumas das muitas ferramentas disponíveis para implementação do DevOps. A escolha das ferramentas adequadas depende das necessidades específicas de cada organização, mas o objetivo comum é facilitar a colaboração, a automação e a entrega contínua de software.Qual é o salário do DevOps?De acordo com o portal de empregos Trampo\\'s.Co, o profissional de DevOps pode ganhar entre R$ 2.500 e R$ 5.000, em nível júnior. No nível pleno, o salário pode subir para uma média de R$ 6.000.\\\\xa0\\\\nCaso você tenha dúvidas se esta profissão é a escolha certa para você, não deixe de conferir o\\\\xa0Teste Vocacional da Quero Bolsa. É rápido, gratuito e pode te ajudar nesta importante escolha profissional.\\\\n\", \\'O profissional de DevOps pode trabalhar em qualquer organização ou empresa de tecnologia, ou então no setor de tecnologia de qualquer empresa.Nesse sentido, empresas relacionadas a produção de softwares e tecnologia da informação, possuem maior demanda relacionada à presença do profissional.\\', \\'Para se tornar um profissional de DevOps, é necessário buscar experiência e montar um portfólio. Caso o profissional aspirante tenha um curso de graduação na área, pode ingressar em alguma empresa por meio de estágio ou cargos em nível júnior. Caso não tenha, pode estudar de forma autônoma e buscar fazer trabalhos simples na área para conseguir montar um portfólio que possa ajudar a servir como porta de entrada em entrevistas de emprego nas empresas de tecnologia.\\\\xa0A graduação em DevOps é oferecida por diversas instituições privadas. Confira algumas que disponibilizam a formação:Faculdades AnhangueraUniversidade Norte do Paraná (Unopar)Faculdade PitágorasO curso possui duração média de 2 anos, podendo ser facilmente encontrado em nível tecnólogo. Além disso, o estudante pode optar pelas modalidades presencial e a distância.\\\\xa0Também é possível encontrar o curso de DevOps em nível de pós-graduação. Nesse caso, a formação é direcionada aos profissionais já graduados em áreas relacionadas à tecnologia.Se você gostaria de se profissionalizar como DevOps e fazer sua faculdade com uma bolsa de estudos para o curso, confira ofertas em cursos de DevOps no site da Quero Bolsa. Confira também áreas relacionadas, como Ciência da Computação.\\']'"
      ]
     },
     "execution_count": 63,
     "metadata": {},
     "output_type": "execute_result"
    }
   ],
   "source": [
    "df_2.descricao.loc[0]"
   ]
  },
  {
   "cell_type": "code",
   "execution_count": 90,
   "id": "eff52864",
   "metadata": {},
   "outputs": [],
   "source": [
    "def new_transforma_descricao(string):\n",
    "    string = string.replace(\"\\\\n\", \"\")\n",
    "    string = string.replace(\"']\", \"\")\n",
    "    string = string.replace(\"['\", \"\")\n",
    "    string = string.replace('[\"', '')\n",
    "    string = string.replace('\"]', '')\n",
    "    string = string.replace('\\\\xa0', '')\n",
    "    string = string.replace(\"\\\\\", \"\")\n",
    "    string = string.replace(\"[\\'\", \"\")\n",
    "    string = string.replace(\"\\'\", \"\")\n",
    "    string = string.replace(\"\\n\", \"\")\n",
    "    \n",
    "    return string"
   ]
  },
  {
   "cell_type": "code",
   "execution_count": 70,
   "id": "a682ab49",
   "metadata": {},
   "outputs": [
    {
     "data": {
      "text/plain": [
       "'Aquele que otimiza a produtividade das operações na área de Tecnologia da Informação. Profissional tem ganhado espaço no mercado e precisa estar antenado nas novidades constantes que surgem na área, O profissional especialista em DevOps (Desenvolvimento & Operações, de maneira simplificada) é aquele que atua na integração entre as equipes de desenvolvimento de software, especialmente nas áreas de desenvolvimento e operações, integrando e monitorando suas atividades para buscar um desempenho mais otimizado e simplificado.Os especialistas em DevOps devem promover a padronização dos processos em Tecnologia da Informação, buscando liberação mais rápida de atualizações de novas versões do produto, por meio de uso de metodologias ágeis, ferramentas de produtividade. Mas, além disso, é função desse profissional implementar uma nova cultura nos espaços de trabalho, com base na priorização dos indivíduos e das interações acima dos processos, do bom funcionamento dos softwares desenvolvidos, das necessidades do cliente e da alta flexibilidade para lidar com mudanças.A agilidade e velocidade desenvolvida pelo profissional permitem o desenvolvimento de novos softwares e serviços de qualidade em um ritmo rápido, abrindo espaço para uma competitividade mercadológica eficaz e melhor atendimento aos clientes.O método de DevOps se popularizou por meados de 2007, emergindo como uma forma de revolucionar a produção e programação de novos softwares. Se outrora as equipes de desenvolvimento e operações possuíam interesses e métricas distintas, hoje, por meio dos processos, ambas direcionam o olhar para o mesmo cenário e objetivo final.O que é DevOps?DevOps é uma abordagem colaborativa que visa integrar o desenvolvimento de software (Dev) e as operações de infraestrutura (Ops), promovendo maior agilidade, eficiência e qualidade nos processos de entrega de software. É um conjunto de práticas e ferramentas que enfatizam a automação, a comunicação e a colaboração entre desenvolvedores e operadores., \"O profissional de DevOps pode atuar ao mesmo tempo no desenvolvimento dos sistemas e na infraestrutura. Ele atua com as equipes de planejamento do projeto, passando em seguida para o desenvolvimento, no qual lida diretamente com o controle dos códigos e na integração dele com a segurança da rede. Já na fase de automação do projeto, o profissional de DevOps busca prevenir erros, bugs, detecção de problemas, além de buscar o máximo de automação nas operações. Por fim, o profissional trabalha na entrega do produto/serviço final, buscando feedbacks dos clientes para buscar possíveis atualizações.Além disso, com o surgimento de ferramentas de auxílio, o profissional pode optar por plataformas como forma de organizar demandas. É o caso do Azure DevOps.O Azure DevOps é uma plataforma, desenvolvida pela Microsoft, que tem como objetivo auxiliar profissionais em projetos relacionados a DevOps, organizando demandas, realizando acompanhamentos, entre outros serviços relacionados.Quais são as ferramentas de DevOps?No contexto da implementação do DevOps, existem diversas ferramentas que auxiliam na automação, integração e colaboração entre as equipes de desenvolvimento e operações, como:Jenkins: Automatiza tarefas como compilação, teste e implantação de software, permitindo a entrega contínua e a rápida detecção de problemas.Docker: Simplifica o empacotamento e a distribuição de aplicativos e suas dependências. Kubernetes: Gerencia a implantação, o dimensionamento e o monitoramento de aplicativos em contêineres. Ansible: Permite a configuração e o gerenciamento de infraestrutura e aplicativos de forma declarativa. Git: Permite o gerenciamento eficiente de código-fonte, rastreando alterações e facilitando a colaboração.Puppet: Automatiza a implantação e a configuração de servidores e sistemas. Nagios: Verifica a disponibilidade e o desempenho dos sistemas, fornecendo alertas em tempo real sobre possíveis problemas.Essas são apenas algumas das muitas ferramentas disponíveis para implementação do DevOps. A escolha das ferramentas adequadas depende das necessidades específicas de cada organização, mas o objetivo comum é facilitar a colaboração, a automação e a entrega contínua de software.Qual é o salário do DevOps?De acordo com o portal de empregos Trampos.Co, o profissional de DevOps pode ganhar entre R$ 2.500 e R$ 5.000, em nível júnior. No nível pleno, o salário pode subir para uma média de R$ 6.000.Caso você tenha dúvidas se esta profissão é a escolha certa para você, não deixe de conferir oTeste Vocacional da Quero Bolsa. É rápido, gratuito e pode te ajudar nesta importante escolha profissional.\", O profissional de DevOps pode trabalhar em qualquer organização ou empresa de tecnologia, ou então no setor de tecnologia de qualquer empresa.Nesse sentido, empresas relacionadas a produção de softwares e tecnologia da informação, possuem maior demanda relacionada à presença do profissional., Para se tornar um profissional de DevOps, é necessário buscar experiência e montar um portfólio. Caso o profissional aspirante tenha um curso de graduação na área, pode ingressar em alguma empresa por meio de estágio ou cargos em nível júnior. Caso não tenha, pode estudar de forma autônoma e buscar fazer trabalhos simples na área para conseguir montar um portfólio que possa ajudar a servir como porta de entrada em entrevistas de emprego nas empresas de tecnologia.A graduação em DevOps é oferecida por diversas instituições privadas. Confira algumas que disponibilizam a formação:Faculdades AnhangueraUniversidade Norte do Paraná (Unopar)Faculdade PitágorasO curso possui duração média de 2 anos, podendo ser facilmente encontrado em nível tecnólogo. Além disso, o estudante pode optar pelas modalidades presencial e a distância.Também é possível encontrar o curso de DevOps em nível de pós-graduação. Nesse caso, a formação é direcionada aos profissionais já graduados em áreas relacionadas à tecnologia.Se você gostaria de se profissionalizar como DevOps e fazer sua faculdade com uma bolsa de estudos para o curso, confira ofertas em cursos de DevOps no site da Quero Bolsa. Confira também áreas relacionadas, como Ciência da Computação.'"
      ]
     },
     "execution_count": 70,
     "metadata": {},
     "output_type": "execute_result"
    }
   ],
   "source": [
    "df_2['descricao'] = df_2['descricao'].map(new_transforma_descricao)\n",
    "df_2.descricao.loc[0]"
   ]
  },
  {
   "cell_type": "code",
   "execution_count": 71,
   "id": "0c523d7a",
   "metadata": {},
   "outputs": [
    {
     "data": {
      "text/plain": [
       "6"
      ]
     },
     "execution_count": 71,
     "metadata": {},
     "output_type": "execute_result"
    }
   ],
   "source": [
    "df_2[\"n_tokens\"] = df_2.descricao.apply(lambda x: len(encoding.encode(x)))\n",
    "df_2 = df_2[df_2.n_tokens <= max_tokens]\n",
    "len(df_2)"
   ]
  },
  {
   "cell_type": "code",
   "execution_count": 72,
   "id": "88bfc51f",
   "metadata": {},
   "outputs": [
    {
     "data": {
      "text/html": [
       "<div>\n",
       "<style scoped>\n",
       "    .dataframe tbody tr th:only-of-type {\n",
       "        vertical-align: middle;\n",
       "    }\n",
       "\n",
       "    .dataframe tbody tr th {\n",
       "        vertical-align: top;\n",
       "    }\n",
       "\n",
       "    .dataframe thead th {\n",
       "        text-align: right;\n",
       "    }\n",
       "</style>\n",
       "<table border=\"1\" class=\"dataframe\">\n",
       "  <thead>\n",
       "    <tr style=\"text-align: right;\">\n",
       "      <th></th>\n",
       "      <th>nome_curso</th>\n",
       "      <th>descricao</th>\n",
       "      <th>cursos</th>\n",
       "      <th>n_tokens</th>\n",
       "    </tr>\n",
       "  </thead>\n",
       "  <tbody>\n",
       "    <tr>\n",
       "      <th>0</th>\n",
       "      <td>devops</td>\n",
       "      <td>Aquele que otimiza a produtividade das operaçõ...</td>\n",
       "      <td>ciencia-da-computacao, analise-e-desenvolvimen...</td>\n",
       "      <td>1562</td>\n",
       "    </tr>\n",
       "    <tr>\n",
       "      <th>1</th>\n",
       "      <td>professor</td>\n",
       "      <td>Aquele que transmite conhecimento e aprendizad...</td>\n",
       "      <td>historia, pedagogia</td>\n",
       "      <td>2224</td>\n",
       "    </tr>\n",
       "    <tr>\n",
       "      <th>2</th>\n",
       "      <td>cientista-de-dados</td>\n",
       "      <td>Aquele que trabalha com uma infinidade de info...</td>\n",
       "      <td>ciencia-da-computacao</td>\n",
       "      <td>2587</td>\n",
       "    </tr>\n",
       "    <tr>\n",
       "      <th>3</th>\n",
       "      <td>psicologo-comportamental</td>\n",
       "      <td>Profissional especializado na compreensão e mo...</td>\n",
       "      <td>psicologia, medicina, psicanalise</td>\n",
       "      <td>2283</td>\n",
       "    </tr>\n",
       "    <tr>\n",
       "      <th>4</th>\n",
       "      <td>analista-ambiental</td>\n",
       "      <td>Aquele que organiza e implementa estratégias p...</td>\n",
       "      <td>engenharia-ambiental, gestao-ambiental</td>\n",
       "      <td>1695</td>\n",
       "    </tr>\n",
       "  </tbody>\n",
       "</table>\n",
       "</div>"
      ],
      "text/plain": [
       "                 nome_curso  \\\n",
       "0                    devops   \n",
       "1                 professor   \n",
       "2        cientista-de-dados   \n",
       "3  psicologo-comportamental   \n",
       "4        analista-ambiental   \n",
       "\n",
       "                                           descricao  \\\n",
       "0  Aquele que otimiza a produtividade das operaçõ...   \n",
       "1  Aquele que transmite conhecimento e aprendizad...   \n",
       "2  Aquele que trabalha com uma infinidade de info...   \n",
       "3  Profissional especializado na compreensão e mo...   \n",
       "4  Aquele que organiza e implementa estratégias p...   \n",
       "\n",
       "                                              cursos  n_tokens  \n",
       "0  ciencia-da-computacao, analise-e-desenvolvimen...      1562  \n",
       "1                                historia, pedagogia      2224  \n",
       "2                              ciencia-da-computacao      2587  \n",
       "3                  psicologia, medicina, psicanalise      2283  \n",
       "4             engenharia-ambiental, gestao-ambiental      1695  "
      ]
     },
     "execution_count": 72,
     "metadata": {},
     "output_type": "execute_result"
    }
   ],
   "source": [
    "df_2.head()"
   ]
  },
  {
   "cell_type": "code",
   "execution_count": 73,
   "id": "5118fcb7",
   "metadata": {},
   "outputs": [
    {
     "name": "stdout",
     "output_type": "stream",
     "text": [
      "CPU times: user 109 ms, sys: 779 µs, total: 109 ms\n",
      "Wall time: 6.06 s\n"
     ]
    }
   ],
   "source": [
    "%%time\n",
    "df_2[\"embedding\"] = df_2.descricao.apply(lambda x: get_embedding(x, engine=embedding_model))\n",
    "df_2.to_csv(\"../data/Model_embedding_Profissoes.csv\")"
   ]
  },
  {
   "cell_type": "code",
   "execution_count": 74,
   "id": "c0e518fc",
   "metadata": {},
   "outputs": [],
   "source": [
    "matrix_2 = np.array(df_2.embedding.tolist())"
   ]
  },
  {
   "cell_type": "code",
   "execution_count": 75,
   "id": "dd40ac2e",
   "metadata": {},
   "outputs": [],
   "source": [
    "n_clusters_2 = 6"
   ]
  },
  {
   "cell_type": "code",
   "execution_count": 78,
   "id": "4cda3b68",
   "metadata": {},
   "outputs": [
    {
     "data": {
      "text/plain": [
       "KMeans(n_clusters=6, random_state=42)"
      ]
     },
     "execution_count": 78,
     "metadata": {},
     "output_type": "execute_result"
    }
   ],
   "source": [
    "kmeans_2 = KMeans(n_clusters=n_clusters_2, init=\"k-means++\", random_state=42)\n",
    "kmeans_2.fit(matrix_2)"
   ]
  },
  {
   "cell_type": "code",
   "execution_count": 79,
   "id": "8526756b",
   "metadata": {},
   "outputs": [],
   "source": [
    "labels = kmeans_2.labels_\n",
    "df_2[\"Cluster\"] = labels "
   ]
  },
  {
   "cell_type": "code",
   "execution_count": 80,
   "id": "21482a5e",
   "metadata": {},
   "outputs": [
    {
     "data": {
      "text/html": [
       "<div>\n",
       "<style scoped>\n",
       "    .dataframe tbody tr th:only-of-type {\n",
       "        vertical-align: middle;\n",
       "    }\n",
       "\n",
       "    .dataframe tbody tr th {\n",
       "        vertical-align: top;\n",
       "    }\n",
       "\n",
       "    .dataframe thead th {\n",
       "        text-align: right;\n",
       "    }\n",
       "</style>\n",
       "<table border=\"1\" class=\"dataframe\">\n",
       "  <thead>\n",
       "    <tr style=\"text-align: right;\">\n",
       "      <th></th>\n",
       "      <th>nome_curso</th>\n",
       "      <th>descricao</th>\n",
       "      <th>cursos</th>\n",
       "      <th>n_tokens</th>\n",
       "      <th>embedding</th>\n",
       "      <th>Cluster</th>\n",
       "    </tr>\n",
       "  </thead>\n",
       "  <tbody>\n",
       "    <tr>\n",
       "      <th>0</th>\n",
       "      <td>devops</td>\n",
       "      <td>Aquele que otimiza a produtividade das operaçõ...</td>\n",
       "      <td>ciencia-da-computacao, analise-e-desenvolvimen...</td>\n",
       "      <td>1562</td>\n",
       "      <td>[-0.004839891567826271, -0.0001442406355636194...</td>\n",
       "      <td>2</td>\n",
       "    </tr>\n",
       "    <tr>\n",
       "      <th>1</th>\n",
       "      <td>professor</td>\n",
       "      <td>Aquele que transmite conhecimento e aprendizad...</td>\n",
       "      <td>historia, pedagogia</td>\n",
       "      <td>2224</td>\n",
       "      <td>[-0.005933306645601988, 0.010552989318966866, ...</td>\n",
       "      <td>4</td>\n",
       "    </tr>\n",
       "    <tr>\n",
       "      <th>2</th>\n",
       "      <td>cientista-de-dados</td>\n",
       "      <td>Aquele que trabalha com uma infinidade de info...</td>\n",
       "      <td>ciencia-da-computacao</td>\n",
       "      <td>2587</td>\n",
       "      <td>[-0.02413325197994709, 0.009161577560007572, 0...</td>\n",
       "      <td>3</td>\n",
       "    </tr>\n",
       "    <tr>\n",
       "      <th>3</th>\n",
       "      <td>psicologo-comportamental</td>\n",
       "      <td>Profissional especializado na compreensão e mo...</td>\n",
       "      <td>psicologia, medicina, psicanalise</td>\n",
       "      <td>2283</td>\n",
       "      <td>[-0.02025003731250763, 0.015865236520767212, 0...</td>\n",
       "      <td>0</td>\n",
       "    </tr>\n",
       "    <tr>\n",
       "      <th>4</th>\n",
       "      <td>analista-ambiental</td>\n",
       "      <td>Aquele que organiza e implementa estratégias p...</td>\n",
       "      <td>engenharia-ambiental, gestao-ambiental</td>\n",
       "      <td>1695</td>\n",
       "      <td>[0.00784892775118351, -0.0024344439152628183, ...</td>\n",
       "      <td>5</td>\n",
       "    </tr>\n",
       "  </tbody>\n",
       "</table>\n",
       "</div>"
      ],
      "text/plain": [
       "                 nome_curso  \\\n",
       "0                    devops   \n",
       "1                 professor   \n",
       "2        cientista-de-dados   \n",
       "3  psicologo-comportamental   \n",
       "4        analista-ambiental   \n",
       "\n",
       "                                           descricao  \\\n",
       "0  Aquele que otimiza a produtividade das operaçõ...   \n",
       "1  Aquele que transmite conhecimento e aprendizad...   \n",
       "2  Aquele que trabalha com uma infinidade de info...   \n",
       "3  Profissional especializado na compreensão e mo...   \n",
       "4  Aquele que organiza e implementa estratégias p...   \n",
       "\n",
       "                                              cursos  n_tokens  \\\n",
       "0  ciencia-da-computacao, analise-e-desenvolvimen...      1562   \n",
       "1                                historia, pedagogia      2224   \n",
       "2                              ciencia-da-computacao      2587   \n",
       "3                  psicologia, medicina, psicanalise      2283   \n",
       "4             engenharia-ambiental, gestao-ambiental      1695   \n",
       "\n",
       "                                           embedding  Cluster  \n",
       "0  [-0.004839891567826271, -0.0001442406355636194...        2  \n",
       "1  [-0.005933306645601988, 0.010552989318966866, ...        4  \n",
       "2  [-0.02413325197994709, 0.009161577560007572, 0...        3  \n",
       "3  [-0.02025003731250763, 0.015865236520767212, 0...        0  \n",
       "4  [0.00784892775118351, -0.0024344439152628183, ...        5  "
      ]
     },
     "execution_count": 80,
     "metadata": {},
     "output_type": "execute_result"
    }
   ],
   "source": [
    "df_2.head()"
   ]
  },
  {
   "cell_type": "code",
   "execution_count": 127,
   "id": "83f9c5f5",
   "metadata": {},
   "outputs": [],
   "source": [
    "df_2.to_csv(\"../data/Model_embedding_Profissoes.csv\")"
   ]
  },
  {
   "cell_type": "code",
   "execution_count": 81,
   "id": "103dff6d",
   "metadata": {},
   "outputs": [],
   "source": [
    "tsne_2 = TSNE(n_components=2, perplexity=15, random_state=11, init='random', learning_rate=200) "
   ]
  },
  {
   "cell_type": "code",
   "execution_count": 82,
   "id": "663f7561",
   "metadata": {},
   "outputs": [
    {
     "data": {
      "text/plain": [
       "(6, 2)"
      ]
     },
     "execution_count": 82,
     "metadata": {},
     "output_type": "execute_result"
    }
   ],
   "source": [
    "vis_dims = tsne_2.fit_transform(matrix_2)\n",
    "vis_dims.shape"
   ]
  },
  {
   "cell_type": "code",
   "execution_count": 83,
   "id": "10c6a297",
   "metadata": {},
   "outputs": [],
   "source": [
    "x = [x for x,y in vis_dims]\n",
    "y = [y for x,y in vis_dims]"
   ]
  },
  {
   "cell_type": "code",
   "execution_count": 84,
   "id": "7cebf645",
   "metadata": {},
   "outputs": [
    {
     "data": {
      "image/png": "[encoded data removed]",
      "text/plain": [
       "<Figure size 720x504 with 1 Axes>"
      ]
     },
     "metadata": {
      "needs_background": "light"
     },
     "output_type": "display_data"
    }
   ],
   "source": [
    "fig, ax = plt.subplots(figsize=(10, 7))\n",
    "for category, color in enumerate([\"purple\", \"green\", \"red\", \"blue\", \"orange\", 'brown']):\n",
    "    xs = np.array(x)[df_2.Cluster == category]\n",
    "    ys = np.array(y)[df_2.Cluster == category]\n",
    "    ax.scatter(xs, ys, color=color, alpha=0.3)\n",
    "    avg_x = xs.mean()\n",
    "    avg_y = ys.mean()\n",
    "    ax.scatter(avg_x, avg_y, marker=\"x\", color=color, s=100)\n",
    "\n",
    "ax.set_title(\"Clusters of professions visualized 2d with K-means\", fontsize=14)\n",
    "plt.show()"
   ]
  },
  {
   "cell_type": "code",
   "execution_count": 86,
   "id": "fa704900",
   "metadata": {},
   "outputs": [
    {
     "name": "stdout",
     "output_type": "stream",
     "text": [
      "Cluster 0 Theme:  The reviews all discuss the profession of a behavioral psychologist, including the educational requirements, the techniques used, and the environments in which they work.\n",
      "----------------------------------------------------------------------------------------------------\n",
      "Cluster 1 Theme:  The reviews all discuss the role of an analyst of digital marketing, the strategies they use, and the skills and qualifications needed to become one. They also mention the salary of an analyst of digital marketing and the Quero Bolsa website, which offers discounts on courses related to digital marketing.\n",
      "----------------------------------------------------------------------------------------------------\n",
      "Cluster 2 Theme:  The reviews all discuss the profession of DevOps, its role in the technology industry, the tools used, and the salary and educational requirements for the profession.\n",
      "----------------------------------------------------------------------------------------------------\n",
      "Cluster 3 Theme:  The reviews all discuss the profession of a data scientist, including the skills and qualifications needed, the steps involved in the job, and the various industries in which a data scientist can work.\n",
      "----------------------------------------------------------------------------------------------------\n",
      "Cluster 4 Theme:  The importance of teachers and the role they play in society, the history of the profession, the qualifications and skills needed to become a teacher, and the salary and opportunities available to teachers.\n",
      "----------------------------------------------------------------------------------------------------\n",
      "Cluster 5 Theme:  The reviews all discuss the role of an environmental analyst, their responsibilities, qualifications, and career paths.\n",
      "----------------------------------------------------------------------------------------------------\n"
     ]
    }
   ],
   "source": [
    "rev_per_cluster = 1\n",
    "for i in range(n_clusters_2):\n",
    "    print(f\"Cluster {i} Theme:\", end=\" \")\n",
    "\n",
    "    reviews = \"\\n\".join(\n",
    "        df_2[df_2.Cluster == i]\n",
    "        .descricao.str.replace(\"Title: \", \"\")\n",
    "        .str.replace(\"\\n\\nContent: \", \":  \")\n",
    "        .sample(rev_per_cluster, random_state=42)\n",
    "        .values\n",
    "    )\n",
    "    response = openai.Completion.create(\n",
    "        engine=\"text-davinci-003\",\n",
    "        prompt=f'What do the following customer reviews have in common?\\n\\nCustomer reviews:\\n\"\"\"\\n{reviews}\\n\"\"\"\\n\\nTheme:',\n",
    "        temperature=0,\n",
    "        max_tokens=90,\n",
    "        top_p=1,\n",
    "        frequency_penalty=0,\n",
    "        presence_penalty=0,\n",
    "    )\n",
    "    print(response[\"choices\"][0][\"text\"].replace(\"\\n\", \"\"))\n",
    "\n",
    "    print(\"-\" * 100)"
   ]
  },
  {
   "cell_type": "markdown",
   "id": "5f961074",
   "metadata": {},
   "source": [
    "<h2>Predict</h2>"
   ]
  },
  {
   "cell_type": "code",
   "execution_count": 112,
   "id": "2f50cd68",
   "metadata": {},
   "outputs": [],
   "source": [
    "profissao = 'gosto de trabalhar com computadores, programacao, matematica e estatistica'"
   ]
  },
  {
   "cell_type": "code",
   "execution_count": 113,
   "id": "be2a47c8",
   "metadata": {},
   "outputs": [
    {
     "data": {
      "text/plain": [
       "'gosto de trabalhar com computadores, programacao, matematica e estatistica'"
      ]
     },
     "execution_count": 113,
     "metadata": {},
     "output_type": "execute_result"
    }
   ],
   "source": [
    "profissao"
   ]
  },
  {
   "cell_type": "code",
   "execution_count": 114,
   "id": "d78f0728",
   "metadata": {},
   "outputs": [
    {
     "data": {
      "text/plain": [
       "'gosto de trabalhar com computadores, programacao, matematica e estatistica'"
      ]
     },
     "execution_count": 114,
     "metadata": {},
     "output_type": "execute_result"
    }
   ],
   "source": [
    "profissao = new_transforma_descricao(profissao)\n",
    "profissao"
   ]
  },
  {
   "cell_type": "code",
   "execution_count": 115,
   "id": "46f34216",
   "metadata": {},
   "outputs": [
    {
     "data": {
      "text/plain": [
       "[-0.01315920427441597,\n",
       " -0.002186379861086607,\n",
       " -0.005361273884773254,\n",
       " -0.03901169076561928,\n",
       " -0.00173147430177778,\n",
       " 0.004347574431449175,\n",
       " -0.02556285634636879,\n",
       " -0.0037336882669478655,\n",
       " -0.008468483574688435,\n",
       " -0.009242924861609936,\n",
       " 0.025991003960371017,\n",
       " 0.010986991226673126,\n",
       " 0.014204385690391064,\n",
       " -0.011685877107083797,\n",
       " -0.012006986886262894,\n",
       " 0.0009389313054271042,\n",
       " 0.025210265070199966,\n",
       " -0.0003763989079743624,\n",
       " 0.006774786859750748,\n",
       " -0.017780667170882225,\n",
       " -0.005547014065086842,\n",
       " 0.01950584538280964,\n",
       " 0.01605548895895481,\n",
       " -0.02601618878543377,\n",
       " -0.015186604112386703,\n",
       " -0.004212204832583666,\n",
       " -0.007908115163445473,\n",
       " -0.022452499717473984,\n",
       " 0.015022900886833668,\n",
       " -0.010722547769546509,\n",
       " 0.03901169076561928,\n",
       " -0.014846605248749256,\n",
       " -0.0204376932233572,\n",
       " -0.028962843120098114,\n",
       " -0.0378531776368618,\n",
       " -0.011452915146946907,\n",
       " 0.010640696622431278,\n",
       " 0.008260706439614296,\n",
       " -0.0007083304226398468,\n",
       " -0.00223045377060771,\n",
       " -0.00685034180060029,\n",
       " 0.014242162927985191,\n",
       " -0.0027876736130565405,\n",
       " -0.017289558425545692,\n",
       " 0.018196221441030502,\n",
       " 0.026419149711728096,\n",
       " -0.023333977907896042,\n",
       " -0.005887012463063002,\n",
       " -0.03800428658723831,\n",
       " -0.01096810307353735,\n",
       " 0.00010811876563820988,\n",
       " 0.01634511724114418,\n",
       " -0.011792914010584354,\n",
       " -0.01741548255085945,\n",
       " -0.0019124920945614576,\n",
       " 0.011320693418383598,\n",
       " 0.017440669238567352,\n",
       " -0.006598491221666336,\n",
       " -0.001940825255587697,\n",
       " -0.022603610530495644,\n",
       " 0.017491038888692856,\n",
       " -0.015539194457232952,\n",
       " -0.024593232199549675,\n",
       " 0.007139970548450947,\n",
       " 0.011251434683799744,\n",
       " 0.008833667263388634,\n",
       " -0.00427831569686532,\n",
       " 0.010332179255783558,\n",
       " 0.011068843305110931,\n",
       " 0.021369541063904762,\n",
       " 0.007473672740161419,\n",
       " 0.006548121105879545,\n",
       " -0.008059225976467133,\n",
       " 0.018712515011429787,\n",
       " 0.03916279971599579,\n",
       " -0.008663667365908623,\n",
       " 0.01353698130697012,\n",
       " 0.003299245610833168,\n",
       " 0.007561820559203625,\n",
       " -0.0007059692870825529,\n",
       " 0.008147373795509338,\n",
       " -0.021848058328032494,\n",
       " -0.025688782334327698,\n",
       " -0.023346569389104843,\n",
       " 0.015211788937449455,\n",
       " 0.0032835048623383045,\n",
       " -0.012472911737859249,\n",
       " 0.004158686380833387,\n",
       " -0.011761432513594627,\n",
       " -0.004882757551968098,\n",
       " 0.008008855395019054,\n",
       " 0.020815469324588776,\n",
       " 0.009469590149819851,\n",
       " 0.014871790073812008,\n",
       " -0.0016212895279750228,\n",
       " 0.014720680192112923,\n",
       " -0.014796234667301178,\n",
       " 0.012158097699284554,\n",
       " 0.000787820783443749,\n",
       " -0.007284784689545631,\n",
       " -0.006806267891079187,\n",
       " 0.010388845577836037,\n",
       " 0.002145454054698348,\n",
       " -0.008348854258656502,\n",
       " -0.028257660567760468,\n",
       " 0.0049394238740205765,\n",
       " 0.0018322146497666836,\n",
       " 0.019933991134166718,\n",
       " 0.03498207777738571,\n",
       " 0.004007576033473015,\n",
       " -0.01604289561510086,\n",
       " 0.031531721353530884,\n",
       " 0.004136649426072836,\n",
       " -0.016999930143356323,\n",
       " -0.03551096469163895,\n",
       " -0.03573762997984886,\n",
       " 0.0030489687342196703,\n",
       " -0.01590437814593315,\n",
       " -0.001198652433231473,\n",
       " -0.007725523319095373,\n",
       " -0.0015488824574276805,\n",
       " 0.0033181344624608755,\n",
       " 0.02813173457980156,\n",
       " 0.01770511269569397,\n",
       " 0.007971078157424927,\n",
       " 0.0264695193618536,\n",
       " -0.00280184019356966,\n",
       " -0.022578425705432892,\n",
       " -0.006504047196358442,\n",
       " -0.015677712857723236,\n",
       " 0.008934407494962215,\n",
       " -0.015476232394576073,\n",
       " -0.0017141596181318164,\n",
       " -0.008600705303251743,\n",
       " -0.03369763866066933,\n",
       " -0.0024665638338774443,\n",
       " -0.014317718334496021,\n",
       " 0.018045110628008842,\n",
       " -0.018372517079114914,\n",
       " 0.004246834199875593,\n",
       " 0.009066629223525524,\n",
       " 0.027628034353256226,\n",
       " 0.016697708517313004,\n",
       " -0.028056180104613304,\n",
       " -0.010464400984346867,\n",
       " 0.007473672740161419,\n",
       " 0.04263834282755852,\n",
       " 0.0020069361198693514,\n",
       " 0.0234850887209177,\n",
       " 0.003165449947118759,\n",
       " -0.00983477383852005,\n",
       " -0.026721371337771416,\n",
       " -0.008147373795509338,\n",
       " -4.594309575622901e-05,\n",
       " -0.020777691155672073,\n",
       " -0.011660692282021046,\n",
       " -0.007807374931871891,\n",
       " 0.015010308474302292,\n",
       " -0.004596277140080929,\n",
       " -0.013285130262374878,\n",
       " 0.00586182763800025,\n",
       " -0.017163632437586784,\n",
       " -0.0019250846235081553,\n",
       " -0.014745865017175674,\n",
       " 0.010766621679067612,\n",
       " 0.03405022993683815,\n",
       " 0.0019848991651088,\n",
       " 0.013965127058327198,\n",
       " 0.010300697758793831,\n",
       " 0.001117587904445827,\n",
       " -0.009255517274141312,\n",
       " 0.009570330381393433,\n",
       " -0.04009464755654335,\n",
       " 0.00710848905146122,\n",
       " 0.010306994430720806,\n",
       " 0.01678585633635521,\n",
       " -0.01647104322910309,\n",
       " 0.014997716061770916,\n",
       " -0.03571244329214096,\n",
       " -0.005691828206181526,\n",
       " 0.03012135624885559,\n",
       " -0.0026538779493421316,\n",
       " -0.007284784689545631,\n",
       " 0.009746626019477844,\n",
       " -0.02241472154855728,\n",
       " 0.020651767030358315,\n",
       " 0.018347332254052162,\n",
       " 0.024857675656676292,\n",
       " -0.012447725981473923,\n",
       " 0.010810695588588715,\n",
       " 0.030171727761626244,\n",
       " -0.006387566216289997,\n",
       " -0.034553930163383484,\n",
       " -0.012139208614826202,\n",
       " -0.6596476435661316,\n",
       " -0.005433681420981884,\n",
       " 0.018498441204428673,\n",
       " -0.016445858404040337,\n",
       " 0.01421697810292244,\n",
       " 0.01863696053624153,\n",
       " 0.005710717290639877,\n",
       " 0.0020730469841510057,\n",
       " -0.003677021712064743,\n",
       " -0.041076865047216415,\n",
       " -0.00676849065348506,\n",
       " 0.003837576601654291,\n",
       " 0.01203846838325262,\n",
       " 0.01649622805416584,\n",
       " 0.00802144780755043,\n",
       " -0.03072579950094223,\n",
       " 0.001318281632848084,\n",
       " -0.008896630257368088,\n",
       " -0.028988027945160866,\n",
       " 0.006034974940121174,\n",
       " -0.027502108365297318,\n",
       " 0.011257731355726719,\n",
       " -0.0004887479590252042,\n",
       " -0.0017188817728310823,\n",
       " 0.02255323901772499,\n",
       " 0.01983325183391571,\n",
       " 0.02527322806417942,\n",
       " 0.0008838389185257256,\n",
       " -0.016836225986480713,\n",
       " 0.0021312874741852283,\n",
       " -0.006680342834442854,\n",
       " 0.0033968377392739058,\n",
       " -0.01937991939485073,\n",
       " 0.0008625889895483851,\n",
       " 0.05565902963280678,\n",
       " -0.015639934688806534,\n",
       " 0.013889571651816368,\n",
       " 0.02238953672349453,\n",
       " 0.028786547482013702,\n",
       " 0.028081364929676056,\n",
       " -0.010558845475316048,\n",
       " -0.03508281707763672,\n",
       " 0.015299936756491661,\n",
       " 0.02027399092912674,\n",
       " -0.003500726306810975,\n",
       " 0.014934753067791462,\n",
       " 0.010256623849272728,\n",
       " 0.006938489619642496,\n",
       " -0.024555454030632973,\n",
       " -0.026670999825000763,\n",
       " -0.004410537425428629,\n",
       " -0.00899737048894167,\n",
       " -0.0068629346787929535,\n",
       " -0.005767383612692356,\n",
       " 0.0132347596809268,\n",
       " 0.013121427036821842,\n",
       " 0.022036945447325706,\n",
       " -0.0280058104544878,\n",
       " -0.002636563265696168,\n",
       " 0.0010144865373149514,\n",
       " 0.003261467907577753,\n",
       " 0.002729433123022318,\n",
       " -0.030373208224773407,\n",
       " -0.007114785257726908,\n",
       " -0.026419149711728096,\n",
       " 0.007517746649682522,\n",
       " -0.027174701914191246,\n",
       " -0.016269562765955925,\n",
       " -0.003148135030642152,\n",
       " -0.02209990844130516,\n",
       " -0.01783103682100773,\n",
       " -0.005014979280531406,\n",
       " 0.002104528248310089,\n",
       " 0.024001382291316986,\n",
       " -0.010791807435452938,\n",
       " 0.023699160665273666,\n",
       " 0.028509510681033134,\n",
       " -0.03704725205898285,\n",
       " -0.01226513460278511,\n",
       " -0.001773974159732461,\n",
       " 0.007914411835372448,\n",
       " -0.005691828206181526,\n",
       " -0.019039921462535858,\n",
       " 0.002516933949664235,\n",
       " 0.025537671521306038,\n",
       " -0.01089884340763092,\n",
       " -0.01429253350943327,\n",
       " -0.025323599576950073,\n",
       " 0.013259945437312126,\n",
       " 0.01019995752722025,\n",
       " 0.02861025184392929,\n",
       " 0.032010238617658615,\n",
       " 0.010993287898600101,\n",
       " -0.0033086899202317,\n",
       " 0.00861329771578312,\n",
       " 0.012995501980185509,\n",
       " -0.0004458546463865787,\n",
       " 0.0008067096350714564,\n",
       " -0.02709914743900299,\n",
       " -0.014783642254769802,\n",
       " 0.004379055928438902,\n",
       " -0.013738461770117283,\n",
       " 0.009891440160572529,\n",
       " -0.0035857257898896933,\n",
       " 0.032916899770498276,\n",
       " -0.0023217496927827597,\n",
       " 0.011383656412363052,\n",
       " 0.019316956400871277,\n",
       " 0.0015882342122495174,\n",
       " -0.022200649604201317,\n",
       " -0.025991003960371017,\n",
       " -0.01429253350943327,\n",
       " -0.00669293524697423,\n",
       " -0.01863696053624153,\n",
       " 0.0219362061470747,\n",
       " -0.02843395620584488,\n",
       " 0.009450701996684074,\n",
       " -0.016307339072227478,\n",
       " -0.013826609589159489,\n",
       " -0.01801992580294609,\n",
       " -0.006642565131187439,\n",
       " 0.011666988953948021,\n",
       " 0.01710066944360733,\n",
       " -0.0348057821393013,\n",
       " -0.015186604112386703,\n",
       " -0.0017062892438843846,\n",
       " 0.016118451952934265,\n",
       " -0.008808482438325882,\n",
       " -0.007196636870503426,\n",
       " -0.028509510681033134,\n",
       " -0.01210772804915905,\n",
       " 0.027628034353256226,\n",
       " 0.01317179761826992,\n",
       " -0.00379979913122952,\n",
       " 0.014468829147517681,\n",
       " -0.02619248442351818,\n",
       " 0.012907354161143303,\n",
       " -0.010571437887847424,\n",
       " 0.006491454783827066,\n",
       " -0.010174772702157497,\n",
       " -0.02725025825202465,\n",
       " -0.007574412971735001,\n",
       " -0.008317372761666775,\n",
       " -0.009123295545578003,\n",
       " 0.005839790683239698,\n",
       " -0.035813186317682266,\n",
       " -0.0019691584166139364,\n",
       " 0.009211443364620209,\n",
       " 0.010029958561062813,\n",
       " 0.010036254301667213,\n",
       " 0.006969971116632223,\n",
       " 0.002691655419766903,\n",
       " -0.01188106182962656,\n",
       " 0.02830803021788597,\n",
       " 0.026419149711728096,\n",
       " -0.0019628622103482485,\n",
       " 0.021105097606778145,\n",
       " 0.015413269400596619,\n",
       " -0.01543845422565937,\n",
       " -0.0005532847717404366,\n",
       " -0.014154015108942986,\n",
       " -0.0009058758732862771,\n",
       " -0.008884036913514137,\n",
       " -0.018032517284154892,\n",
       " -0.016685115173459053,\n",
       " -0.018359923735260963,\n",
       " -0.031405795365571976,\n",
       " 0.016382895410060883,\n",
       " -0.005512384697794914,\n",
       " -0.0234599020332098,\n",
       " 0.008607001043856144,\n",
       " -0.002406749175861478,\n",
       " 0.008600705303251743,\n",
       " 0.014267348684370518,\n",
       " -0.012302911840379238,\n",
       " 0.026268038898706436,\n",
       " -0.014619939029216766,\n",
       " -0.010772918350994587,\n",
       " 0.01722659543156624,\n",
       " -0.015022900886833668,\n",
       " 0.007870337925851345,\n",
       " -0.01710066944360733,\n",
       " -0.02405175194144249,\n",
       " -0.017629556357860565,\n",
       " 0.04966497793793678,\n",
       " 0.019556215032935143,\n",
       " 0.003469244809821248,\n",
       " 0.017491038888692856,\n",
       " 0.008254410699009895,\n",
       " -0.006069604307413101,\n",
       " 0.0059751602821052074,\n",
       " 0.010344771668314934,\n",
       " 0.0021753613837063313,\n",
       " -0.004476648289710283,\n",
       " 0.024769527837634087,\n",
       " 0.03770206496119499,\n",
       " -0.004215352702885866,\n",
       " 0.004004427697509527,\n",
       " 0.00617034500464797,\n",
       " 0.027804329991340637,\n",
       " 0.02315768226981163,\n",
       " 0.0234599020332098,\n",
       " 0.003510170616209507,\n",
       " -0.012214764021337032,\n",
       " 0.016370302066206932,\n",
       " -0.039414651691913605,\n",
       " 0.015791045501828194,\n",
       " -0.015992525964975357,\n",
       " 0.007385524921119213,\n",
       " 0.00892811082303524,\n",
       " -0.0017849926371127367,\n",
       " -0.0318087562918663,\n",
       " 0.005984604824334383,\n",
       " -0.015098456293344498,\n",
       " 0.02391323447227478,\n",
       " 0.028660621494054794,\n",
       " -0.025197673588991165,\n",
       " -0.0004863868816755712,\n",
       " -0.011459211818873882,\n",
       " 0.02435397356748581,\n",
       " 0.0016149933217093349,\n",
       " 0.01861177384853363,\n",
       " 0.0019597141072154045,\n",
       " -0.005336089059710503,\n",
       " -0.0014811975415796041,\n",
       " 0.010351068340241909,\n",
       " 0.022603610530495644,\n",
       " 0.015992525964975357,\n",
       " 0.0014355495804920793,\n",
       " -0.010332179255783558,\n",
       " -0.011641803197562695,\n",
       " 0.007020341232419014,\n",
       " -0.011389953084290028,\n",
       " 0.011862172745168209,\n",
       " 0.013448833487927914,\n",
       " 0.006009790115058422,\n",
       " 0.010313290171325207,\n",
       " -0.03138061240315437,\n",
       " 0.04482944309711456,\n",
       " 0.01527475193142891,\n",
       " -0.023724345490336418,\n",
       " 0.023422125726938248,\n",
       " 0.020311767235398293,\n",
       " -0.013637721538543701,\n",
       " 0.0008421261445619166,\n",
       " 0.014166607521474361,\n",
       " 0.020551025867462158,\n",
       " 0.009557737968862057,\n",
       " -0.006340343970805407,\n",
       " 0.026242854073643684,\n",
       " -0.016559191048145294,\n",
       " 0.004142945632338524,\n",
       " -0.016697708517313004,\n",
       " 0.02619248442351818,\n",
       " 0.016269562765955925,\n",
       " -0.04052279517054558,\n",
       " -0.001977028790861368,\n",
       " 0.028106549754738808,\n",
       " 0.01741548255085945,\n",
       " 0.009135887958109379,\n",
       " -0.002312305150553584,\n",
       " 0.018108073621988297,\n",
       " 0.00038210488855838776,\n",
       " 0.0027829513419419527,\n",
       " -0.004287760239094496,\n",
       " 0.00461831409484148,\n",
       " -0.008052929304540157,\n",
       " -0.02058880403637886,\n",
       " -0.01232180092483759,\n",
       " -0.012069949880242348,\n",
       " 0.004007576033473015,\n",
       " -0.028988027945160866,\n",
       " -0.001441845903173089,\n",
       " 0.011855877004563808,\n",
       " 0.001075875130482018,\n",
       " -0.0031119314953684807,\n",
       " 0.014519198797643185,\n",
       " -0.01217069011181593,\n",
       " 0.003311838023364544,\n",
       " 0.00853774230927229,\n",
       " 0.0015362899284809828,\n",
       " -0.020223619416356087,\n",
       " 0.008499965071678162,\n",
       " 0.035032447427511215,\n",
       " -0.009224035777151585,\n",
       " 0.021973982453346252,\n",
       " -0.01589178666472435,\n",
       " 0.011503285728394985,\n",
       " -0.004681277088820934,\n",
       " -0.012794021517038345,\n",
       " 0.0035290594678372145,\n",
       " 0.0052510895766317844,\n",
       " 0.01813325844705105,\n",
       " -0.0017251779790967703,\n",
       " -0.012063654139637947,\n",
       " 0.010873658582568169,\n",
       " 0.028685806319117546,\n",
       " -0.007190340664237738,\n",
       " -0.03435245156288147,\n",
       " 0.005389607511460781,\n",
       " 0.015488824807107449,\n",
       " -0.004571092315018177,\n",
       " -0.03646799549460411,\n",
       " -0.030750984326004982,\n",
       " 0.01407846063375473,\n",
       " 0.012882168404757977,\n",
       " -0.002236749976873398,\n",
       " 0.0037935026921331882,\n",
       " 0.010911435820162296,\n",
       " -0.004451462998986244,\n",
       " 0.01921621710062027,\n",
       " -0.006214418914169073,\n",
       " -0.0013977719936519861,\n",
       " 0.009324776008725166,\n",
       " -0.004111464601010084,\n",
       " -0.01263031829148531,\n",
       " -0.01697474531829357,\n",
       " 0.004095723852515221,\n",
       " 0.03641762584447861,\n",
       " 0.032765790820121765,\n",
       " -0.000535576487891376,\n",
       " -0.0026538779493421316,\n",
       " -0.006321455352008343,\n",
       " 0.005229052621871233,\n",
       " 0.012334393337368965,\n",
       " 0.012239948846399784,\n",
       " -0.01128291618078947,\n",
       " 0.0033622083719819784,\n",
       " 0.011635507456958294,\n",
       " 0.014091053046286106,\n",
       " -0.021356947720050812,\n",
       " -0.0102188466116786,\n",
       " 0.008292187936604023,\n",
       " 0.001942399307154119,\n",
       " -0.0005894883070141077,\n",
       " -0.008978481404483318,\n",
       " 0.017365112900733948,\n",
       " -0.026822110638022423,\n",
       " 0.0011829118011519313,\n",
       " 0.016596967354416847,\n",
       " 0.024001382291316986,\n",
       " -0.02329619973897934,\n",
       " 0.009689959697425365,\n",
       " -0.0027577662840485573,\n",
       " 0.0006154603906907141,\n",
       " -0.007461080327630043,\n",
       " 0.01773029752075672,\n",
       " 0.004719054326415062,\n",
       " 0.042436860501766205,\n",
       " -0.005222755949944258,\n",
       " 0.009192554280161858,\n",
       " 0.01421697810292244,\n",
       " -0.017919184640049934,\n",
       " -0.017428075894713402,\n",
       " -0.011937728151679039,\n",
       " 0.011352174915373325,\n",
       " -0.014279941096901894,\n",
       " 0.011704766191542149,\n",
       " 0.002565730130299926,\n",
       " -0.0019187883008271456,\n",
       " 0.012894761748611927,\n",
       " 0.02785469964146614,\n",
       " 0.014481421560049057,\n",
       " 0.002601933665573597,\n",
       " 0.011333286762237549,\n",
       " -0.000661108351778239,\n",
       " 0.005257385782897472,\n",
       " -0.01133958250284195,\n",
       " 0.009866255335509777,\n",
       " -0.021747317165136337,\n",
       " -0.02981913648545742,\n",
       " 0.021696947515010834,\n",
       " -0.02163398452103138,\n",
       " -0.0362916998565197,\n",
       " 0.023673975840210915,\n",
       " 0.0041397977620363235,\n",
       " 0.0027136923745274544,\n",
       " -0.01512364111840725,\n",
       " -0.0072784884832799435,\n",
       " 0.01128291618078947,\n",
       " 0.023535458371043205,\n",
       " -0.001359207322821021,\n",
       " -0.016571782529354095,\n",
       " -0.00495516462251544,\n",
       " -0.014922160655260086,\n",
       " -0.007423302624374628,\n",
       " 0.009224035777151585,\n",
       " -0.014103645458817482,\n",
       " 0.0028616548515856266,\n",
       " -0.01771770417690277,\n",
       " -0.0072470069862902164,\n",
       " 0.002515360014513135,\n",
       " -0.01634511724114418,\n",
       " 0.02240213006734848,\n",
       " -0.018410293385386467,\n",
       " -0.03143098205327988,\n",
       " -0.019871028140187263,\n",
       " -0.018876217305660248,\n",
       " 0.027426553890109062,\n",
       " -0.0017550853081047535,\n",
       " 0.014556976966559887,\n",
       " 0.00043129449477419257,\n",
       " -0.005647754296660423,\n",
       " 0.02994506061077118,\n",
       " -0.02949173003435135,\n",
       " -0.030171727761626244,\n",
       " -0.024731749668717384,\n",
       " -0.013499203138053417,\n",
       " -0.0035322075709700584,\n",
       " -0.0045616477727890015,\n",
       " -0.017365112900733948,\n",
       " -0.0021139727905392647,\n",
       " -0.011446619406342506,\n",
       " -0.0030788760632276535,\n",
       " -0.0030678575858473778,\n",
       " -0.0041397977620363235,\n",
       " 0.015791045501828194,\n",
       " 0.0001121523164329119,\n",
       " 0.004703314043581486,\n",
       " 0.010414031334221363,\n",
       " 0.024467306211590767,\n",
       " -0.006969971116632223,\n",
       " 0.0061734928749501705,\n",
       " -0.028056180104613304,\n",
       " 0.0018400850240141153,\n",
       " -0.028257660567760468,\n",
       " -0.017956962808966637,\n",
       " -0.021256208419799805,\n",
       " 0.019858436658978462,\n",
       " 0.00438535213470459,\n",
       " 0.00802144780755043,\n",
       " 0.04598795622587204,\n",
       " -0.026242854073643684,\n",
       " -0.011717358604073524,\n",
       " 0.013990312814712524,\n",
       " 0.0055596064776182175,\n",
       " 0.04221019521355629,\n",
       " 0.013184390030801296,\n",
       " 0.012781428173184395,\n",
       " 0.03583836928009987,\n",
       " -0.01353698130697012,\n",
       " 0.022452499717473984,\n",
       " 0.02090361714363098,\n",
       " -0.019102884456515312,\n",
       " 0.020387323573231697,\n",
       " -0.00423109345138073,\n",
       " 0.02707396261394024,\n",
       " 0.030448762699961662,\n",
       " 0.0204376932233572,\n",
       " -0.007637375965714455,\n",
       " 0.00464664725586772,\n",
       " -0.02240213006734848,\n",
       " -0.010552548803389072,\n",
       " 0.006938489619642496,\n",
       " -0.021004358306527138,\n",
       " 0.02512211725115776,\n",
       " -0.035636890679597855,\n",
       " -0.028056180104613304,\n",
       " -0.03163246065378189,\n",
       " -0.007845153100788593,\n",
       " -0.003963502123951912,\n",
       " -0.009727737866342068,\n",
       " -0.0059625678695738316,\n",
       " -0.006390714086592197,\n",
       " -0.007983670569956303,\n",
       " -0.0014741142513230443,\n",
       " -0.001972306752577424,\n",
       " -0.0011215230915695429,\n",
       " -0.004917386919260025,\n",
       " -0.03515837341547012,\n",
       " 0.0036990586668252945,\n",
       " -0.01164809986948967,\n",
       " -0.024996193125844002,\n",
       " 0.04737313836812973,\n",
       " 0.004527018405497074,\n",
       " 0.025625819340348244,\n",
       " 0.02300657145678997,\n",
       " -0.012315504252910614,\n",
       " 0.0007327284547500312,\n",
       " -0.01120736077427864,\n",
       " -0.019153254106640816,\n",
       " -0.014317718334496021,\n",
       " 0.014506606385111809,\n",
       " 0.0302472822368145,\n",
       " 0.017428075894713402,\n",
       " -0.006003493443131447,\n",
       " 0.025323599576950073,\n",
       " -0.0008397650672122836,\n",
       " -0.01315920427441597,\n",
       " -0.011270323768258095,\n",
       " 0.0005190487718209624,\n",
       " -0.006302566267549992,\n",
       " -0.019153254106640816,\n",
       " 0.022288797423243523,\n",
       " 0.00011805506801465526,\n",
       " 0.011641803197562695,\n",
       " 0.009551442228257656,\n",
       " -0.0067936754785478115,\n",
       " 0.014254755340516567,\n",
       " 0.011156991124153137,\n",
       " 0.005669791251420975,\n",
       " -0.004117760807275772,\n",
       " -0.019191032275557518,\n",
       " 0.0008806908153928816,\n",
       " 0.0076877460815012455,\n",
       " 0.01770511269569397,\n",
       " 0.008808482438325882,\n",
       " 0.012995501980185509,\n",
       " -0.009885144419968128,\n",
       " 0.009318480268120766,\n",
       " 0.010697362944483757,\n",
       " 0.002727858955040574,\n",
       " 0.010351068340241909,\n",
       " 0.007536635268479586,\n",
       " 0.007996262982487679,\n",
       " -0.015942156314849854,\n",
       " -0.003925724420696497,\n",
       " 0.0061797890812158585,\n",
       " 0.008839963003993034,\n",
       " -0.013196982443332672,\n",
       " -0.006642565131187439,\n",
       " -0.032614678144454956,\n",
       " -0.0002982857986353338,\n",
       " 0.013247352093458176,\n",
       " 0.016219191253185272,\n",
       " 0.018435480073094368,\n",
       " 0.021382134407758713,\n",
       " -0.0022524907253682613,\n",
       " -0.019115475937724113,\n",
       " 0.01650882139801979,\n",
       " -0.0072721922770142555,\n",
       " 0.0037777621764689684,\n",
       " 0.004136649426072836,\n",
       " -0.023447310552001,\n",
       " -0.0013403184711933136,\n",
       " -0.01475845742970705,\n",
       " 0.01315920427441597,\n",
       " -0.006611083634197712,\n",
       " 0.013411055319011211,\n",
       " -0.019782880321145058,\n",
       " -0.03042357787489891,\n",
       " 0.01590437814593315,\n",
       " -0.004224797245115042,\n",
       " -0.013411055319011211,\n",
       " 0.016559191048145294,\n",
       " -0.011295508593320847,\n",
       " 0.03888576477766037,\n",
       " 0.008342557586729527,\n",
       " 0.02435397356748581,\n",
       " 0.046214621514081955,\n",
       " 0.008550334721803665,\n",
       " -0.00536757055670023,\n",
       " 0.007089600432664156,\n",
       " 0.0021202689968049526,\n",
       " 0.005096830893307924,\n",
       " 0.016571782529354095,\n",
       " 0.03802947327494621,\n",
       " -0.011616618372499943,\n",
       " -0.031204314902424812,\n",
       " 0.021848058328032494,\n",
       " -0.016093267127871513,\n",
       " -0.028988027945160866,\n",
       " -0.02196139097213745,\n",
       " -0.0024130456149578094,\n",
       " 0.0009168943506665528,\n",
       " 0.003340171417221427,\n",
       " -0.011629210785031319,\n",
       " 0.014582161791622639,\n",
       " -0.0029970246832817793,\n",
       " 0.023699160665273666,\n",
       " -0.024001382291316986,\n",
       " -0.012970316223800182,\n",
       " -0.019871028140187263,\n",
       " -0.0002971052599605173,\n",
       " -0.007146266754716635,\n",
       " 0.015148825943470001,\n",
       " -0.015551787801086903,\n",
       " 0.021835464984178543,\n",
       " -0.0113584715873003,\n",
       " 0.00010329818178433925,\n",
       " -0.01294513139873743,\n",
       " -0.030297651886940002,\n",
       " 0.003982390742748976,\n",
       " 0.017050299793481827,\n",
       " 0.009885144419968128,\n",
       " 0.012006986886262894,\n",
       " -0.021306578069925308,\n",
       " 0.0014764753868803382,\n",
       " 0.012844391167163849,\n",
       " 0.03374800831079483,\n",
       " -0.010395142249763012,\n",
       " 0.018687330186367035,\n",
       " 0.004227945581078529,\n",
       " 0.023082125931978226,\n",
       " -0.013196982443332672,\n",
       " -0.01060291938483715,\n",
       " -0.015098456293344498,\n",
       " 0.011251434683799744,\n",
       " -0.00016655602667015046,\n",
       " 0.014443643391132355,\n",
       " -0.00936884991824627,\n",
       " -0.006466269493103027,\n",
       " -0.002675914904102683,\n",
       " -0.009922921657562256,\n",
       " -0.00480090593919158,\n",
       " 0.0025736005045473576,\n",
       " 0.016256969422101974,\n",
       " -0.0005843725521117449,\n",
       " -0.0011671710526570678,\n",
       " -0.005005534738302231,\n",
       " -0.0006233307649381459,\n",
       " -0.014556976966559887,\n",
       " 0.00846218690276146,\n",
       " 0.033521343022584915,\n",
       " -0.017163632437586784,\n",
       " -0.02162139117717743,\n",
       " 0.020689543336629868,\n",
       " 0.002019528765231371,\n",
       " 0.02281768247485161,\n",
       " 0.0029025806579738855,\n",
       " 0.00321582006290555,\n",
       " 0.015287344343960285,\n",
       " 0.010426623746752739,\n",
       " 0.01315920427441597,\n",
       " -0.02102954313158989,\n",
       " -0.006560713518410921,\n",
       " -0.013285130262374878,\n",
       " 0.0211806520819664,\n",
       " -0.0022147130221128464,\n",
       " -0.008159966208040714,\n",
       " 0.02256583236157894,\n",
       " -0.018863625824451447,\n",
       " -0.0006213631713762879,\n",
       " -0.013587350957095623,\n",
       " 0.006535528693348169,\n",
       " 0.010445511899888515,\n",
       " -0.014229570515453815,\n",
       " -0.013713276945054531,\n",
       " 0.029718395322561264,\n",
       " 0.0008114318479783833,\n",
       " -0.020160656422376633,\n",
       " -0.012454022653400898,\n",
       " -0.028257660567760468,\n",
       " 0.01126402709633112,\n",
       " -0.01741548255085945,\n",
       " 0.011383656412363052,\n",
       " 0.007253303192555904,\n",
       " 0.0034125784877687693,\n",
       " 0.035762812942266464,\n",
       " -0.0059373825788497925,\n",
       " -0.009998477064073086,\n",
       " -0.003132394514977932,\n",
       " -0.04528277367353439,\n",
       " -0.021973982453346252,\n",
       " -0.025021377950906754,\n",
       " 0.005694976542145014,\n",
       " -0.027502108365297318,\n",
       " 0.012284022755920887,\n",
       " -0.014745865017175674,\n",
       " 0.001366290613077581,\n",
       " -0.01247920747846365,\n",
       " 0.011893654242157936,\n",
       " -0.0018353627528995275,\n",
       " -0.012592540122568607,\n",
       " -0.019871028140187263,\n",
       " 0.025197673588991165,\n",
       " 0.013562166132032871,\n",
       " -0.0006839323323220015,\n",
       " -0.017163632437586784,\n",
       " -0.020336952060461044,\n",
       " 0.0009349961183033884,\n",
       " -0.014279941096901894,\n",
       " -0.03208579123020172,\n",
       " 0.01982065849006176,\n",
       " -0.029088769108057022,\n",
       " 0.025348784402012825,\n",
       " 0.016231784597039223,\n",
       " -0.014720680192112923,\n",
       " -0.021457688882946968,\n",
       " 0.00010477386967977509,\n",
       " -0.02631840854883194,\n",
       " -0.002435082569718361,\n",
       " -0.015639934688806534,\n",
       " 0.01558956503868103,\n",
       " 0.013209574855864048,\n",
       " -0.0094444053247571,\n",
       " -0.015501417219638824,\n",
       " 0.01490956824272871,\n",
       " -0.015186604112386703,\n",
       " -0.002299712738022208,\n",
       " -0.023182867094874382,\n",
       " 0.013474018312990665,\n",
       " 0.00015268455899786204,\n",
       " -0.0068566384725272655,\n",
       " 0.015073270536959171,\n",
       " -0.01863696053624153,\n",
       " -0.027804329991340637,\n",
       " -3.2834064768394455e-05,\n",
       " 0.019291771575808525,\n",
       " 0.0023721198085695505,\n",
       " 0.01696215197443962,\n",
       " 0.012617725878953934,\n",
       " -0.005748494528234005,\n",
       " -0.013423647731542587,\n",
       " -0.0041146124713122845,\n",
       " -0.014355496503412724,\n",
       " 0.03133023902773857,\n",
       " 0.008311077021062374,\n",
       " 0.019178438931703568,\n",
       " -0.028030995279550552,\n",
       " -0.0052920151501894,\n",
       " 0.013977719470858574,\n",
       " -0.011736247688531876,\n",
       " 0.006267936900258064,\n",
       " -0.025361375883221626,\n",
       " 0.016382895410060883,\n",
       " 0.004838683642446995,\n",
       " -0.0014764753868803382,\n",
       " -0.009815885685384274,\n",
       " -0.018687330186367035,\n",
       " 0.011698470450937748,\n",
       " -0.010558845475316048,\n",
       " 0.012491799890995026,\n",
       " -0.005304607562720776,\n",
       " -0.006919601000845432,\n",
       " 0.012611429207026958,\n",
       " 0.0068566384725272655,\n",
       " -0.000331144459778443,\n",
       " -0.002101380145177245,\n",
       " -0.007215525489300489,\n",
       " -0.013360685668885708,\n",
       " 0.012384763918817043,\n",
       " -0.0029828581027686596,\n",
       " -0.024316195398569107,\n",
       " 0.006604787427932024,\n",
       " -0.009148480370640755,\n",
       " 0.004829239100217819,\n",
       " -0.0015158270252868533,\n",
       " -0.0075807091780006886,\n",
       " -0.02179768681526184,\n",
       " -0.025462117046117783,\n",
       " -0.03301764279603958,\n",
       " -0.012970316223800182,\n",
       " 0.034125786274671555,\n",
       " 0.009305886924266815,\n",
       " 0.009179961867630482,\n",
       " -0.004290908109396696,\n",
       " -0.009419220499694347,\n",
       " -0.014871790073812008,\n",
       " -0.02815692126750946,\n",
       " 0.014405866153538227,\n",
       " -0.029088769108057022,\n",
       " -0.004549055360257626,\n",
       " 0.031229499727487564,\n",
       " -0.009494775906205177,\n",
       " -0.01278772484511137,\n",
       " 0.007127377670258284,\n",
       " 0.015627343207597733,\n",
       " 0.0013843923807144165,\n",
       " 0.014494013972580433,\n",
       " 0.2058124840259552,\n",
       " -0.014279941096901894,\n",
       " -0.0014190218644216657,\n",
       " 0.026545075699687004,\n",
       " 0.028232475742697716,\n",
       " 0.04571092128753662,\n",
       " 0.006749601569026709,\n",
       " -0.015539194457232952,\n",
       " 0.013436241075396538,\n",
       " 0.024756934493780136,\n",
       " 0.01309624221175909,\n",
       " -0.030675427988171577,\n",
       " -0.022200649604201317,\n",
       " -0.007637375965714455,\n",
       " 0.0026948037557303905,\n",
       " -0.00855663139373064,\n",
       " -0.014468829147517681,\n",
       " -0.021369541063904762,\n",
       " -0.04067390412092209,\n",
       " -0.021835464984178543,\n",
       " 0.014871790073812008,\n",
       " 0.021243615075945854,\n",
       " -0.024555454030632973,\n",
       " -0.038961321115493774,\n",
       " 0.020009547472000122,\n",
       " 0.01036995742470026,\n",
       " -0.0203999150544405,\n",
       " -0.002304435009136796,\n",
       " 0.03543540835380554,\n",
       " 0.009331072680652142,\n",
       " -0.001729900250211358,\n",
       " 0.010709955357015133,\n",
       " 0.011654396541416645,\n",
       " -0.00619867816567421,\n",
       " -0.00423109345138073,\n",
       " -0.01786881498992443,\n",
       " 0.022729534655809402,\n",
       " -0.022427314892411232,\n",
       " 0.01921621710062027,\n",
       " -0.00013251681230030954,\n",
       " 0.02165916934609413,\n",
       " 0.006623676046729088,\n",
       " 0.018347332254052162,\n",
       " -0.04414944723248482,\n",
       " 0.008273298852145672,\n",
       " 0.05384570360183716,\n",
       " ...]"
      ]
     },
     "execution_count": 115,
     "metadata": {},
     "output_type": "execute_result"
    }
   ],
   "source": [
    "embedding = get_embedding(profissao, engine=embedding_model)\n",
    "embedding"
   ]
  },
  {
   "cell_type": "code",
   "execution_count": 116,
   "id": "e1014fce",
   "metadata": {},
   "outputs": [],
   "source": [
    "matrix_3 = np.array(embedding)"
   ]
  },
  {
   "cell_type": "code",
   "execution_count": 117,
   "id": "7e763460",
   "metadata": {},
   "outputs": [
    {
     "data": {
      "text/plain": [
       "array([-0.0131592 , -0.00218638, -0.00536127, ..., -0.00113412,\n",
       "        0.00231388, -0.00132773])"
      ]
     },
     "execution_count": 117,
     "metadata": {},
     "output_type": "execute_result"
    }
   ],
   "source": [
    "matrix_3"
   ]
  },
  {
   "cell_type": "code",
   "execution_count": 118,
   "id": "2931171c",
   "metadata": {},
   "outputs": [],
   "source": [
    "matrix_3 = matrix_3.reshape(1, -1)"
   ]
  },
  {
   "cell_type": "code",
   "execution_count": 119,
   "id": "0a245595",
   "metadata": {},
   "outputs": [
    {
     "data": {
      "text/plain": [
       "array([[-0.0131592 , -0.00218638, -0.00536127, ..., -0.00113412,\n",
       "         0.00231388, -0.00132773]])"
      ]
     },
     "execution_count": 119,
     "metadata": {},
     "output_type": "execute_result"
    }
   ],
   "source": [
    "matrix_3"
   ]
  },
  {
   "cell_type": "code",
   "execution_count": 122,
   "id": "588e3c98",
   "metadata": {},
   "outputs": [
    {
     "name": "stderr",
     "output_type": "stream",
     "text": [
      "Exception ignored on calling ctypes callback function: <function _ThreadpoolInfo._find_modules_with_dl_iterate_phdr.<locals>.match_module_callback at 0x7f37ec198790>\n",
      "Traceback (most recent call last):\n",
      "  File \"/home/chris/anaconda3/lib/python3.9/site-packages/threadpoolctl.py\", line 400, in match_module_callback\n",
      "    self._make_module_from_path(filepath)\n",
      "  File \"/home/chris/anaconda3/lib/python3.9/site-packages/threadpoolctl.py\", line 515, in _make_module_from_path\n",
      "    module = module_class(filepath, prefix, user_api, internal_api)\n",
      "  File \"/home/chris/anaconda3/lib/python3.9/site-packages/threadpoolctl.py\", line 606, in __init__\n",
      "    self.version = self.get_version()\n",
      "  File \"/home/chris/anaconda3/lib/python3.9/site-packages/threadpoolctl.py\", line 646, in get_version\n",
      "    config = get_config().split()\n",
      "AttributeError: 'NoneType' object has no attribute 'split'\n"
     ]
    }
   ],
   "source": [
    "predict = kmeans_2.predict(matrix_3)"
   ]
  },
  {
   "cell_type": "code",
   "execution_count": 125,
   "id": "b5c05226",
   "metadata": {},
   "outputs": [
    {
     "data": {
      "text/plain": [
       "3"
      ]
     },
     "execution_count": 125,
     "metadata": {},
     "output_type": "execute_result"
    }
   ],
   "source": [
    "predict[0]"
   ]
  },
  {
   "cell_type": "code",
   "execution_count": 124,
   "id": "82a5c5ed",
   "metadata": {},
   "outputs": [
    {
     "data": {
      "text/html": [
       "<div>\n",
       "<style scoped>\n",
       "    .dataframe tbody tr th:only-of-type {\n",
       "        vertical-align: middle;\n",
       "    }\n",
       "\n",
       "    .dataframe tbody tr th {\n",
       "        vertical-align: top;\n",
       "    }\n",
       "\n",
       "    .dataframe thead th {\n",
       "        text-align: right;\n",
       "    }\n",
       "</style>\n",
       "<table border=\"1\" class=\"dataframe\">\n",
       "  <thead>\n",
       "    <tr style=\"text-align: right;\">\n",
       "      <th></th>\n",
       "      <th>nome_curso</th>\n",
       "      <th>descricao</th>\n",
       "      <th>cursos</th>\n",
       "      <th>n_tokens</th>\n",
       "      <th>embedding</th>\n",
       "      <th>Cluster</th>\n",
       "    </tr>\n",
       "  </thead>\n",
       "  <tbody>\n",
       "    <tr>\n",
       "      <th>2</th>\n",
       "      <td>cientista-de-dados</td>\n",
       "      <td>Aquele que trabalha com uma infinidade de info...</td>\n",
       "      <td>ciencia-da-computacao</td>\n",
       "      <td>2587</td>\n",
       "      <td>[-0.02413325197994709, 0.009161577560007572, 0...</td>\n",
       "      <td>3</td>\n",
       "    </tr>\n",
       "  </tbody>\n",
       "</table>\n",
       "</div>"
      ],
      "text/plain": [
       "           nome_curso                                          descricao  \\\n",
       "2  cientista-de-dados  Aquele que trabalha com uma infinidade de info...   \n",
       "\n",
       "                  cursos  n_tokens  \\\n",
       "2  ciencia-da-computacao      2587   \n",
       "\n",
       "                                           embedding  Cluster  \n",
       "2  [-0.02413325197994709, 0.009161577560007572, 0...        3  "
      ]
     },
     "execution_count": 124,
     "metadata": {},
     "output_type": "execute_result"
    }
   ],
   "source": [
    "df_2[df_2['Cluster'] == 3]"
   ]
  },
  {
   "cell_type": "code",
   "execution_count": 126,
   "id": "4945004c",
   "metadata": {},
   "outputs": [],
   "source": [
    "with open('models/kmeans_profissoes.pkl', 'wb') as arquivo:\n",
    "    pickle.dump(kmeans_2, arquivo)"
   ]
  },
  {
   "cell_type": "code",
   "execution_count": null,
   "id": "3ac8ec8a",
   "metadata": {},
   "outputs": [],
   "source": []
  }
 ],
 "metadata": {
  "kernelspec": {
   "display_name": "Python 3 (ipykernel)",
   "language": "python",
   "name": "python3"
  },
  "language_info": {
   "codemirror_mode": {
    "name": "ipython",
    "version": 3
   },
   "file_extension": ".py",
   "mimetype": "text/x-python",
   "name": "python",
   "nbconvert_exporter": "python",
   "pygments_lexer": "ipython3",
   "version": "3.9.12"
  }
 },
 "nbformat": 4,
 "nbformat_minor": 5
}
